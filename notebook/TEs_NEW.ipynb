{
 "cells": [
  {
   "cell_type": "markdown",
   "id": "1d50dec1",
   "metadata": {},
   "source": [
    "# RNA-seq Cell-Line Project\n",
    "## Transposable Elements Expression"
   ]
  },
  {
   "cell_type": "markdown",
   "id": "1b72ee6b",
   "metadata": {},
   "source": [
    "### Setting up"
   ]
  },
  {
   "cell_type": "markdown",
   "id": "ad92e691",
   "metadata": {},
   "source": [
    "**Calling the necessary libraries:**"
   ]
  },
  {
   "cell_type": "code",
   "execution_count": 1,
   "id": "c9f1e4e4",
   "metadata": {},
   "outputs": [],
   "source": [
    "suppressMessages(suppressWarnings(library(readr)))\n",
    "suppressMessages(suppressWarnings(library(dplyr)))\n",
    "suppressMessages(suppressWarnings(library(tidyr)))\n",
    "suppressMessages(suppressWarnings(library(tibble)))\n",
    "suppressMessages(suppressWarnings(library(pheatmap)))\n",
    "suppressMessages(suppressWarnings(library(ggplot2)))\n",
    "suppressMessages(suppressWarnings(library(forcats)))\n",
    "suppressMessages(suppressWarnings(library(stringr)))\n",
    "suppressMessages(suppressWarnings(library(RColorBrewer)))\n",
    "suppressMessages(suppressWarnings(library(gridExtra)))\n",
    "#suppressMessages(suppressWarnings(library(viridis)))\n",
    "#suppressMessages(suppressWarnings(library(rtracklayer)))"
   ]
  },
  {
   "cell_type": "markdown",
   "id": "b9297645",
   "metadata": {},
   "source": [
    "**Calling the files:**"
   ]
  },
  {
   "cell_type": "code",
   "execution_count": 3,
   "id": "8e847359",
   "metadata": {},
   "outputs": [],
   "source": [
    "### FeatureCounts output \n",
    "fc_counts <- \"/home5/attilio/Laura/Cell_line_project/Cell_line_RNAseq/teste_te/teste_te.txt\"\n",
    "\n",
    "## Feature lenght\n",
    "featlen_file <- \"/home5/attilio/Tarcisio/smallrna_rhodnius_2023/resources/rna-seq/paired_snakePipes/feature_lengths.tsv\""
   ]
  },
  {
   "cell_type": "markdown",
   "id": "0a82c144",
   "metadata": {},
   "source": [
    "**Preparing the files:**"
   ]
  },
  {
   "cell_type": "code",
   "execution_count": 5,
   "id": "ef9c60da",
   "metadata": {},
   "outputs": [
    {
     "data": {
      "text/html": [
       "<table class=\"dataframe\">\n",
       "<caption>A tibble: 6 × 2</caption>\n",
       "<thead>\n",
       "\t<tr><th scope=col>geneid</th><th scope=col>counts</th></tr>\n",
       "\t<tr><th scope=col>&lt;chr&gt;</th><th scope=col>&lt;dbl&gt;</th></tr>\n",
       "</thead>\n",
       "<tbody>\n",
       "\t<tr><td>rnd-1_family-27  </td><td>  2</td></tr>\n",
       "\t<tr><td>rnd-6_family-1263</td><td>  0</td></tr>\n",
       "\t<tr><td>rnd-5_family-2165</td><td> 10</td></tr>\n",
       "\t<tr><td>(TTTTC)n         </td><td>  6</td></tr>\n",
       "\t<tr><td>rnd-5_family-2165</td><td>  2</td></tr>\n",
       "\t<tr><td>rnd-3_family-27  </td><td>103</td></tr>\n",
       "</tbody>\n",
       "</table>\n"
      ],
      "text/latex": [
       "A tibble: 6 × 2\n",
       "\\begin{tabular}{ll}\n",
       " geneid & counts\\\\\n",
       " <chr> & <dbl>\\\\\n",
       "\\hline\n",
       "\t rnd-1\\_family-27   &   2\\\\\n",
       "\t rnd-6\\_family-1263 &   0\\\\\n",
       "\t rnd-5\\_family-2165 &  10\\\\\n",
       "\t (TTTTC)n          &   6\\\\\n",
       "\t rnd-5\\_family-2165 &   2\\\\\n",
       "\t rnd-3\\_family-27   & 103\\\\\n",
       "\\end{tabular}\n"
      ],
      "text/markdown": [
       "\n",
       "A tibble: 6 × 2\n",
       "\n",
       "| geneid &lt;chr&gt; | counts &lt;dbl&gt; |\n",
       "|---|---|\n",
       "| rnd-1_family-27   |   2 |\n",
       "| rnd-6_family-1263 |   0 |\n",
       "| rnd-5_family-2165 |  10 |\n",
       "| (TTTTC)n          |   6 |\n",
       "| rnd-5_family-2165 |   2 |\n",
       "| rnd-3_family-27   | 103 |\n",
       "\n"
      ],
      "text/plain": [
       "                                             geneid            counts\n",
       "rnd-1_family-27::Unknown::603-1045;          rnd-1_family-27     2   \n",
       "rnd-6_family-1263::rRNA::1235-1290;          rnd-6_family-1263   0   \n",
       "rnd-5_family-2165::LINE/RTE-RTE::(115)-2413; rnd-5_family-2165  10   \n",
       "(TTTTC)n::Simple_repeat::1-49;               (TTTTC)n            6   \n",
       "rnd-5_family-2165::LINE/RTE-RTE::(1772)-756; rnd-5_family-2165   2   \n",
       "rnd-3_family-27::LINE::(2479)-253;           rnd-3_family-27   103   "
      ]
     },
     "metadata": {},
     "output_type": "display_data"
    }
   ],
   "source": [
    "fc <- read_tsv(fc_counts, skip = 1) %>% select(c(1,7)) %>% suppressMessages\n",
    "fc$Geneid <- sapply(fc$Geneid, function(x) str_split(x, \"::\")[[1]][1])\n",
    "\n",
    "names(fc) <- c(\"geneid\", \"counts\")\n",
    "head(fc)"
   ]
  },
  {
   "cell_type": "code",
   "execution_count": 6,
   "id": "c429a9d2",
   "metadata": {},
   "outputs": [],
   "source": [
    "# verified with mapping_statistics.py \n",
    "\n",
    "total_mapped_reads = 23941961"
   ]
  },
  {
   "cell_type": "code",
   "execution_count": 7,
   "id": "6d43241a",
   "metadata": {},
   "outputs": [
    {
     "data": {
      "text/html": [
       "<table class=\"dataframe\">\n",
       "<caption>A tibble: 6 × 4</caption>\n",
       "<thead>\n",
       "\t<tr><th scope=col>geneid</th><th scope=col>len</th><th scope=col>cl</th><th scope=col>fam</th></tr>\n",
       "\t<tr><th scope=col>&lt;chr&gt;</th><th scope=col>&lt;dbl&gt;</th><th scope=col>&lt;chr&gt;</th><th scope=col>&lt;chr&gt;</th></tr>\n",
       "</thead>\n",
       "<tbody>\n",
       "\t<tr><td>RPRC000679-RA</td><td> 327</td><td>transcript</td><td>transcript</td></tr>\n",
       "\t<tr><td>RPRC003242-RA</td><td>1211</td><td>transcript</td><td>transcript</td></tr>\n",
       "\t<tr><td>RPRC003262-RA</td><td>1497</td><td>transcript</td><td>transcript</td></tr>\n",
       "\t<tr><td>RPRC003241-RA</td><td> 843</td><td>transcript</td><td>transcript</td></tr>\n",
       "\t<tr><td>RPRC003252-RA</td><td>1179</td><td>transcript</td><td>transcript</td></tr>\n",
       "\t<tr><td>RPRC003249-RA</td><td>1060</td><td>transcript</td><td>transcript</td></tr>\n",
       "</tbody>\n",
       "</table>\n"
      ],
      "text/latex": [
       "A tibble: 6 × 4\n",
       "\\begin{tabular}{llll}\n",
       " geneid & len & cl & fam\\\\\n",
       " <chr> & <dbl> & <chr> & <chr>\\\\\n",
       "\\hline\n",
       "\t RPRC000679-RA &  327 & transcript & transcript\\\\\n",
       "\t RPRC003242-RA & 1211 & transcript & transcript\\\\\n",
       "\t RPRC003262-RA & 1497 & transcript & transcript\\\\\n",
       "\t RPRC003241-RA &  843 & transcript & transcript\\\\\n",
       "\t RPRC003252-RA & 1179 & transcript & transcript\\\\\n",
       "\t RPRC003249-RA & 1060 & transcript & transcript\\\\\n",
       "\\end{tabular}\n"
      ],
      "text/markdown": [
       "\n",
       "A tibble: 6 × 4\n",
       "\n",
       "| geneid &lt;chr&gt; | len &lt;dbl&gt; | cl &lt;chr&gt; | fam &lt;chr&gt; |\n",
       "|---|---|---|---|\n",
       "| RPRC000679-RA |  327 | transcript | transcript |\n",
       "| RPRC003242-RA | 1211 | transcript | transcript |\n",
       "| RPRC003262-RA | 1497 | transcript | transcript |\n",
       "| RPRC003241-RA |  843 | transcript | transcript |\n",
       "| RPRC003252-RA | 1179 | transcript | transcript |\n",
       "| RPRC003249-RA | 1060 | transcript | transcript |\n",
       "\n"
      ],
      "text/plain": [
       "  geneid        len  cl         fam       \n",
       "1 RPRC000679-RA  327 transcript transcript\n",
       "2 RPRC003242-RA 1211 transcript transcript\n",
       "3 RPRC003262-RA 1497 transcript transcript\n",
       "4 RPRC003241-RA  843 transcript transcript\n",
       "5 RPRC003252-RA 1179 transcript transcript\n",
       "6 RPRC003249-RA 1060 transcript transcript"
      ]
     },
     "metadata": {},
     "output_type": "display_data"
    }
   ],
   "source": [
    "featlen <- read_tsv(featlen_file, col_names = c(\"geneid\", \"len\",\"cl\", \"fam\")) %>% suppressMessages\n",
    "featlen %>% head"
   ]
  },
  {
   "cell_type": "code",
   "execution_count": 8,
   "id": "58e5c072",
   "metadata": {},
   "outputs": [
    {
     "data": {
      "text/html": [
       "<table class=\"dataframe\">\n",
       "<caption>A tibble: 6 × 5</caption>\n",
       "<thead>\n",
       "\t<tr><th scope=col>geneid</th><th scope=col>counts</th><th scope=col>len</th><th scope=col>cl</th><th scope=col>fam</th></tr>\n",
       "\t<tr><th scope=col>&lt;chr&gt;</th><th scope=col>&lt;dbl&gt;</th><th scope=col>&lt;dbl&gt;</th><th scope=col>&lt;chr&gt;</th><th scope=col>&lt;chr&gt;</th></tr>\n",
       "</thead>\n",
       "<tbody>\n",
       "\t<tr><td>rnd-1_family-27  </td><td>  2</td><td> 445</td><td>Unknown</td><td>Unknown</td></tr>\n",
       "\t<tr><td>rnd-6_family-1263</td><td>  0</td><td>  NA</td><td>NA     </td><td>NA     </td></tr>\n",
       "\t<tr><td>rnd-5_family-2165</td><td> 10</td><td>1289</td><td>LINE   </td><td>RTE-RTE</td></tr>\n",
       "\t<tr><td>(TTTTC)n         </td><td>  6</td><td>  NA</td><td>NA     </td><td>NA     </td></tr>\n",
       "\t<tr><td>rnd-5_family-2165</td><td>  2</td><td>1289</td><td>LINE   </td><td>RTE-RTE</td></tr>\n",
       "\t<tr><td>rnd-3_family-27  </td><td>103</td><td> 124</td><td>LINE   </td><td>LINE   </td></tr>\n",
       "</tbody>\n",
       "</table>\n"
      ],
      "text/latex": [
       "A tibble: 6 × 5\n",
       "\\begin{tabular}{lllll}\n",
       " geneid & counts & len & cl & fam\\\\\n",
       " <chr> & <dbl> & <dbl> & <chr> & <chr>\\\\\n",
       "\\hline\n",
       "\t rnd-1\\_family-27   &   2 &  445 & Unknown & Unknown\\\\\n",
       "\t rnd-6\\_family-1263 &   0 &   NA & NA      & NA     \\\\\n",
       "\t rnd-5\\_family-2165 &  10 & 1289 & LINE    & RTE-RTE\\\\\n",
       "\t (TTTTC)n          &   6 &   NA & NA      & NA     \\\\\n",
       "\t rnd-5\\_family-2165 &   2 & 1289 & LINE    & RTE-RTE\\\\\n",
       "\t rnd-3\\_family-27   & 103 &  124 & LINE    & LINE   \\\\\n",
       "\\end{tabular}\n"
      ],
      "text/markdown": [
       "\n",
       "A tibble: 6 × 5\n",
       "\n",
       "| geneid &lt;chr&gt; | counts &lt;dbl&gt; | len &lt;dbl&gt; | cl &lt;chr&gt; | fam &lt;chr&gt; |\n",
       "|---|---|---|---|---|\n",
       "| rnd-1_family-27   |   2 |  445 | Unknown | Unknown |\n",
       "| rnd-6_family-1263 |   0 |   NA | NA      | NA      |\n",
       "| rnd-5_family-2165 |  10 | 1289 | LINE    | RTE-RTE |\n",
       "| (TTTTC)n          |   6 |   NA | NA      | NA      |\n",
       "| rnd-5_family-2165 |   2 | 1289 | LINE    | RTE-RTE |\n",
       "| rnd-3_family-27   | 103 |  124 | LINE    | LINE    |\n",
       "\n"
      ],
      "text/plain": [
       "                                             geneid            counts len \n",
       "rnd-1_family-27::Unknown::603-1045;          rnd-1_family-27     2     445\n",
       "rnd-6_family-1263::rRNA::1235-1290;          rnd-6_family-1263   0      NA\n",
       "rnd-5_family-2165::LINE/RTE-RTE::(115)-2413; rnd-5_family-2165  10    1289\n",
       "(TTTTC)n::Simple_repeat::1-49;               (TTTTC)n            6      NA\n",
       "rnd-5_family-2165::LINE/RTE-RTE::(1772)-756; rnd-5_family-2165   2    1289\n",
       "rnd-3_family-27::LINE::(2479)-253;           rnd-3_family-27   103     124\n",
       "                                             cl      fam    \n",
       "rnd-1_family-27::Unknown::603-1045;          Unknown Unknown\n",
       "rnd-6_family-1263::rRNA::1235-1290;          NA      NA     \n",
       "rnd-5_family-2165::LINE/RTE-RTE::(115)-2413; LINE    RTE-RTE\n",
       "(TTTTC)n::Simple_repeat::1-49;               NA      NA     \n",
       "rnd-5_family-2165::LINE/RTE-RTE::(1772)-756; LINE    RTE-RTE\n",
       "rnd-3_family-27::LINE::(2479)-253;           LINE    LINE   "
      ]
     },
     "metadata": {},
     "output_type": "display_data"
    }
   ],
   "source": [
    "fc_lengths <- left_join(fc, featlen , by = \"geneid\")\n",
    "fc_lengths %>% head"
   ]
  },
  {
   "cell_type": "code",
   "execution_count": 19,
   "id": "0ec45deb",
   "metadata": {},
   "outputs": [
    {
     "data": {
      "text/html": [
       "<table class=\"dataframe\">\n",
       "<caption>A rowwise_df: 6 × 6</caption>\n",
       "<thead>\n",
       "\t<tr><th scope=col>geneid</th><th scope=col>counts</th><th scope=col>len</th><th scope=col>cl</th><th scope=col>fam</th><th scope=col>fpkm</th></tr>\n",
       "\t<tr><th scope=col>&lt;chr&gt;</th><th scope=col>&lt;dbl&gt;</th><th scope=col>&lt;dbl&gt;</th><th scope=col>&lt;chr&gt;</th><th scope=col>&lt;chr&gt;</th><th scope=col>&lt;dbl&gt;</th></tr>\n",
       "</thead>\n",
       "<tbody>\n",
       "\t<tr><td>rnd-1_family-27  </td><td>  2</td><td> 445</td><td>Unknown</td><td>Unknown</td><td> 0.18771988</td></tr>\n",
       "\t<tr><td>rnd-6_family-1263</td><td>  0</td><td>  NA</td><td>NA     </td><td>NA     </td><td>         NA</td></tr>\n",
       "\t<tr><td>rnd-5_family-2165</td><td> 10</td><td>1289</td><td>LINE   </td><td>RTE-RTE</td><td> 0.32403160</td></tr>\n",
       "\t<tr><td>(TTTTC)n         </td><td>  6</td><td>  NA</td><td>NA     </td><td>NA     </td><td>         NA</td></tr>\n",
       "\t<tr><td>rnd-5_family-2165</td><td>  2</td><td>1289</td><td>LINE   </td><td>RTE-RTE</td><td> 0.06480632</td></tr>\n",
       "\t<tr><td>rnd-3_family-27  </td><td>103</td><td> 124</td><td>LINE   </td><td>LINE   </td><td>34.69411554</td></tr>\n",
       "</tbody>\n",
       "</table>\n"
      ],
      "text/latex": [
       "A rowwise\\_df: 6 × 6\n",
       "\\begin{tabular}{llllll}\n",
       " geneid & counts & len & cl & fam & fpkm\\\\\n",
       " <chr> & <dbl> & <dbl> & <chr> & <chr> & <dbl>\\\\\n",
       "\\hline\n",
       "\t rnd-1\\_family-27   &   2 &  445 & Unknown & Unknown &  0.18771988\\\\\n",
       "\t rnd-6\\_family-1263 &   0 &   NA & NA      & NA      &          NA\\\\\n",
       "\t rnd-5\\_family-2165 &  10 & 1289 & LINE    & RTE-RTE &  0.32403160\\\\\n",
       "\t (TTTTC)n          &   6 &   NA & NA      & NA      &          NA\\\\\n",
       "\t rnd-5\\_family-2165 &   2 & 1289 & LINE    & RTE-RTE &  0.06480632\\\\\n",
       "\t rnd-3\\_family-27   & 103 &  124 & LINE    & LINE    & 34.69411554\\\\\n",
       "\\end{tabular}\n"
      ],
      "text/markdown": [
       "\n",
       "A rowwise_df: 6 × 6\n",
       "\n",
       "| geneid &lt;chr&gt; | counts &lt;dbl&gt; | len &lt;dbl&gt; | cl &lt;chr&gt; | fam &lt;chr&gt; | fpkm &lt;dbl&gt; |\n",
       "|---|---|---|---|---|---|\n",
       "| rnd-1_family-27   |   2 |  445 | Unknown | Unknown |  0.18771988 |\n",
       "| rnd-6_family-1263 |   0 |   NA | NA      | NA      |          NA |\n",
       "| rnd-5_family-2165 |  10 | 1289 | LINE    | RTE-RTE |  0.32403160 |\n",
       "| (TTTTC)n          |   6 |   NA | NA      | NA      |          NA |\n",
       "| rnd-5_family-2165 |   2 | 1289 | LINE    | RTE-RTE |  0.06480632 |\n",
       "| rnd-3_family-27   | 103 |  124 | LINE    | LINE    | 34.69411554 |\n",
       "\n"
      ],
      "text/plain": [
       "                                             geneid            counts len \n",
       "rnd-1_family-27::Unknown::603-1045;          rnd-1_family-27     2     445\n",
       "rnd-6_family-1263::rRNA::1235-1290;          rnd-6_family-1263   0      NA\n",
       "rnd-5_family-2165::LINE/RTE-RTE::(115)-2413; rnd-5_family-2165  10    1289\n",
       "(TTTTC)n::Simple_repeat::1-49;               (TTTTC)n            6      NA\n",
       "rnd-5_family-2165::LINE/RTE-RTE::(1772)-756; rnd-5_family-2165   2    1289\n",
       "rnd-3_family-27::LINE::(2479)-253;           rnd-3_family-27   103     124\n",
       "                                             cl      fam     fpkm       \n",
       "rnd-1_family-27::Unknown::603-1045;          Unknown Unknown  0.18771988\n",
       "rnd-6_family-1263::rRNA::1235-1290;          NA      NA               NA\n",
       "rnd-5_family-2165::LINE/RTE-RTE::(115)-2413; LINE    RTE-RTE  0.32403160\n",
       "(TTTTC)n::Simple_repeat::1-49;               NA      NA               NA\n",
       "rnd-5_family-2165::LINE/RTE-RTE::(1772)-756; LINE    RTE-RTE  0.06480632\n",
       "rnd-3_family-27::LINE::(2479)-253;           LINE    LINE    34.69411554"
      ]
     },
     "metadata": {},
     "output_type": "display_data"
    }
   ],
   "source": [
    "teste_fpkm <- fc_lengths %>% \n",
    "    rowwise %>% \n",
    "    mutate(fpkm = (counts * 1000000) / ( (len/1000) * total_mapped_reads))\n",
    "\n",
    "teste_fpkm %>% head"
   ]
  },
  {
   "cell_type": "code",
   "execution_count": 20,
   "id": "833ff572",
   "metadata": {},
   "outputs": [
    {
     "data": {
      "text/html": [
       "<table class=\"dataframe\">\n",
       "<caption>A rowwise_df: 6 × 7</caption>\n",
       "<thead>\n",
       "\t<tr><th scope=col>geneid</th><th scope=col>counts</th><th scope=col>len</th><th scope=col>cl</th><th scope=col>fam</th><th scope=col>fpkm</th><th scope=col>clfam</th></tr>\n",
       "\t<tr><th scope=col>&lt;chr&gt;</th><th scope=col>&lt;dbl&gt;</th><th scope=col>&lt;dbl&gt;</th><th scope=col>&lt;chr&gt;</th><th scope=col>&lt;chr&gt;</th><th scope=col>&lt;dbl&gt;</th><th scope=col>&lt;chr&gt;</th></tr>\n",
       "</thead>\n",
       "<tbody>\n",
       "\t<tr><td>rnd-1_family-27  </td><td>  2</td><td> 445</td><td>Unknown</td><td>Unknown</td><td> 0.18771988</td><td>Unknown/Unknown</td></tr>\n",
       "\t<tr><td>rnd-6_family-1263</td><td>  0</td><td>  NA</td><td>NA     </td><td>NA     </td><td>         NA</td><td>NA             </td></tr>\n",
       "\t<tr><td>rnd-5_family-2165</td><td> 10</td><td>1289</td><td>LINE   </td><td>RTE-RTE</td><td> 0.32403160</td><td>LINE/RTE-RTE   </td></tr>\n",
       "\t<tr><td>(TTTTC)n         </td><td>  6</td><td>  NA</td><td>NA     </td><td>NA     </td><td>         NA</td><td>NA             </td></tr>\n",
       "\t<tr><td>rnd-5_family-2165</td><td>  2</td><td>1289</td><td>LINE   </td><td>RTE-RTE</td><td> 0.06480632</td><td>LINE/RTE-RTE   </td></tr>\n",
       "\t<tr><td>rnd-3_family-27  </td><td>103</td><td> 124</td><td>LINE   </td><td>LINE   </td><td>34.69411554</td><td>LINE/LINE      </td></tr>\n",
       "</tbody>\n",
       "</table>\n"
      ],
      "text/latex": [
       "A rowwise\\_df: 6 × 7\n",
       "\\begin{tabular}{lllllll}\n",
       " geneid & counts & len & cl & fam & fpkm & clfam\\\\\n",
       " <chr> & <dbl> & <dbl> & <chr> & <chr> & <dbl> & <chr>\\\\\n",
       "\\hline\n",
       "\t rnd-1\\_family-27   &   2 &  445 & Unknown & Unknown &  0.18771988 & Unknown/Unknown\\\\\n",
       "\t rnd-6\\_family-1263 &   0 &   NA & NA      & NA      &          NA & NA             \\\\\n",
       "\t rnd-5\\_family-2165 &  10 & 1289 & LINE    & RTE-RTE &  0.32403160 & LINE/RTE-RTE   \\\\\n",
       "\t (TTTTC)n          &   6 &   NA & NA      & NA      &          NA & NA             \\\\\n",
       "\t rnd-5\\_family-2165 &   2 & 1289 & LINE    & RTE-RTE &  0.06480632 & LINE/RTE-RTE   \\\\\n",
       "\t rnd-3\\_family-27   & 103 &  124 & LINE    & LINE    & 34.69411554 & LINE/LINE      \\\\\n",
       "\\end{tabular}\n"
      ],
      "text/markdown": [
       "\n",
       "A rowwise_df: 6 × 7\n",
       "\n",
       "| geneid &lt;chr&gt; | counts &lt;dbl&gt; | len &lt;dbl&gt; | cl &lt;chr&gt; | fam &lt;chr&gt; | fpkm &lt;dbl&gt; | clfam &lt;chr&gt; |\n",
       "|---|---|---|---|---|---|---|\n",
       "| rnd-1_family-27   |   2 |  445 | Unknown | Unknown |  0.18771988 | Unknown/Unknown |\n",
       "| rnd-6_family-1263 |   0 |   NA | NA      | NA      |          NA | NA              |\n",
       "| rnd-5_family-2165 |  10 | 1289 | LINE    | RTE-RTE |  0.32403160 | LINE/RTE-RTE    |\n",
       "| (TTTTC)n          |   6 |   NA | NA      | NA      |          NA | NA              |\n",
       "| rnd-5_family-2165 |   2 | 1289 | LINE    | RTE-RTE |  0.06480632 | LINE/RTE-RTE    |\n",
       "| rnd-3_family-27   | 103 |  124 | LINE    | LINE    | 34.69411554 | LINE/LINE       |\n",
       "\n"
      ],
      "text/plain": [
       "                                             geneid            counts len \n",
       "rnd-1_family-27::Unknown::603-1045;          rnd-1_family-27     2     445\n",
       "rnd-6_family-1263::rRNA::1235-1290;          rnd-6_family-1263   0      NA\n",
       "rnd-5_family-2165::LINE/RTE-RTE::(115)-2413; rnd-5_family-2165  10    1289\n",
       "(TTTTC)n::Simple_repeat::1-49;               (TTTTC)n            6      NA\n",
       "rnd-5_family-2165::LINE/RTE-RTE::(1772)-756; rnd-5_family-2165   2    1289\n",
       "rnd-3_family-27::LINE::(2479)-253;           rnd-3_family-27   103     124\n",
       "                                             cl      fam     fpkm       \n",
       "rnd-1_family-27::Unknown::603-1045;          Unknown Unknown  0.18771988\n",
       "rnd-6_family-1263::rRNA::1235-1290;          NA      NA               NA\n",
       "rnd-5_family-2165::LINE/RTE-RTE::(115)-2413; LINE    RTE-RTE  0.32403160\n",
       "(TTTTC)n::Simple_repeat::1-49;               NA      NA               NA\n",
       "rnd-5_family-2165::LINE/RTE-RTE::(1772)-756; LINE    RTE-RTE  0.06480632\n",
       "rnd-3_family-27::LINE::(2479)-253;           LINE    LINE    34.69411554\n",
       "                                             clfam          \n",
       "rnd-1_family-27::Unknown::603-1045;          Unknown/Unknown\n",
       "rnd-6_family-1263::rRNA::1235-1290;          NA             \n",
       "rnd-5_family-2165::LINE/RTE-RTE::(115)-2413; LINE/RTE-RTE   \n",
       "(TTTTC)n::Simple_repeat::1-49;               NA             \n",
       "rnd-5_family-2165::LINE/RTE-RTE::(1772)-756; LINE/RTE-RTE   \n",
       "rnd-3_family-27::LINE::(2479)-253;           LINE/LINE      "
      ]
     },
     "metadata": {},
     "output_type": "display_data"
    }
   ],
   "source": [
    "te_fpkm <- teste_fpkm %>% \n",
    "    rowwise %>% \n",
    "    mutate(clfam=str_c(cl, \"/\", fam))\n",
    "\n",
    "te_fpkm %>% head"
   ]
  },
  {
   "cell_type": "code",
   "execution_count": 21,
   "id": "67a50041",
   "metadata": {},
   "outputs": [
    {
     "data": {
      "text/html": [
       "<table class=\"dataframe\">\n",
       "<caption>A rowwise_df: 47 × 3</caption>\n",
       "<thead>\n",
       "\t<tr><th scope=col>fam</th><th scope=col>fpkmsum</th><th scope=col>fpkmlog</th></tr>\n",
       "\t<tr><th scope=col>&lt;chr&gt;</th><th scope=col>&lt;dbl&gt;</th><th scope=col>&lt;dbl&gt;</th></tr>\n",
       "</thead>\n",
       "<tbody>\n",
       "\t<tr><td>Unknown      </td><td>893746.12850</td><td>5.951215</td></tr>\n",
       "\t<tr><td>TcMar-Mariner</td><td>112905.91164</td><td>5.052721</td></tr>\n",
       "\t<tr><td>I-Jockey     </td><td> 89740.52464</td><td>4.952993</td></tr>\n",
       "\t<tr><td>TcMar-Tc1    </td><td> 80399.22431</td><td>4.905257</td></tr>\n",
       "\t<tr><td>Helitron     </td><td> 73654.82300</td><td>4.867207</td></tr>\n",
       "\t<tr><td>R1-LOA       </td><td> 65688.08871</td><td>4.817493</td></tr>\n",
       "\t<tr><td>I            </td><td> 41143.12917</td><td>4.614308</td></tr>\n",
       "\t<tr><td>RTE-BovB     </td><td> 39223.35985</td><td>4.593556</td></tr>\n",
       "\t<tr><td>RTE-X        </td><td> 35165.59891</td><td>4.546130</td></tr>\n",
       "\t<tr><td>tRNA-V       </td><td> 34248.34530</td><td>4.534652</td></tr>\n",
       "\t<tr><td>hAT-Charlie  </td><td> 30223.52472</td><td>4.480359</td></tr>\n",
       "\t<tr><td>Gypsy        </td><td> 25878.22434</td><td>4.412951</td></tr>\n",
       "\t<tr><td>hAT-Ac       </td><td> 18867.95118</td><td>4.275748</td></tr>\n",
       "\t<tr><td>LINE         </td><td> 10098.98837</td><td>4.004321</td></tr>\n",
       "\t<tr><td>LTR          </td><td> 10082.59054</td><td>4.003615</td></tr>\n",
       "\t<tr><td>Penelope     </td><td>  7983.36508</td><td>3.902240</td></tr>\n",
       "\t<tr><td>PIF-Harbinger</td><td>  7123.39535</td><td>3.852748</td></tr>\n",
       "\t<tr><td>Pao          </td><td>  5669.56572</td><td>3.753626</td></tr>\n",
       "\t<tr><td>PiggyBac     </td><td>  5134.43451</td><td>3.710577</td></tr>\n",
       "\t<tr><td>L2           </td><td>  4428.20155</td><td>3.646325</td></tr>\n",
       "\t<tr><td>hAT-hAT19    </td><td>  4053.19796</td><td>3.607905</td></tr>\n",
       "\t<tr><td>R1           </td><td>  3993.67158</td><td>3.601481</td></tr>\n",
       "\t<tr><td>Merlin       </td><td>  3944.90354</td><td>3.596146</td></tr>\n",
       "\t<tr><td>Sola-1       </td><td>  3695.64910</td><td>3.567808</td></tr>\n",
       "\t<tr><td>Maverick     </td><td>  3399.93911</td><td>3.531599</td></tr>\n",
       "\t<tr><td>hAT          </td><td>  3339.37801</td><td>3.523796</td></tr>\n",
       "\t<tr><td>TcMar-Tigger </td><td>  3170.58979</td><td>3.501277</td></tr>\n",
       "\t<tr><td>CR1          </td><td>  3066.69940</td><td>3.486813</td></tr>\n",
       "\t<tr><td>Copia        </td><td>  2455.21405</td><td>3.390266</td></tr>\n",
       "\t<tr><td>TcMar-Fot1   </td><td>  2287.91077</td><td>3.359629</td></tr>\n",
       "\t<tr><td>hAT-Tip100   </td><td>  2257.36080</td><td>3.353793</td></tr>\n",
       "\t<tr><td>RTE          </td><td>  2196.38815</td><td>3.341907</td></tr>\n",
       "\t<tr><td>Dong-R4      </td><td>  1708.83659</td><td>3.232955</td></tr>\n",
       "\t<tr><td>Crypton-H    </td><td>  1649.17047</td><td>3.217529</td></tr>\n",
       "\t<tr><td>Sola-2       </td><td>  1372.39185</td><td>3.137794</td></tr>\n",
       "\t<tr><td>hAT-Blackjack</td><td>  1324.69482</td><td>3.122444</td></tr>\n",
       "\t<tr><td>Crypton-I    </td><td>  1265.67803</td><td>3.102666</td></tr>\n",
       "\t<tr><td>hAT-hATm     </td><td>  1123.08632</td><td>3.050800</td></tr>\n",
       "\t<tr><td>RTE-RTE      </td><td>   932.35018</td><td>2.970045</td></tr>\n",
       "\t<tr><td>DNA          </td><td>   897.31761</td><td>2.953430</td></tr>\n",
       "\t<tr><td>hAT-hATx     </td><td>   314.00340</td><td>2.498315</td></tr>\n",
       "\t<tr><td>Zator        </td><td>   209.61184</td><td>2.323483</td></tr>\n",
       "\t<tr><td>MULE-MuDR    </td><td>   182.87468</td><td>2.264522</td></tr>\n",
       "\t<tr><td>CMC-Chapaev-3</td><td>    81.82737</td><td>1.918174</td></tr>\n",
       "\t<tr><td>R2           </td><td>    54.39133</td><td>1.743442</td></tr>\n",
       "\t<tr><td>PIF-ISL2EU   </td><td>     0.00000</td><td>0.000000</td></tr>\n",
       "\t<tr><td>TcMar-ISRm11 </td><td>     0.00000</td><td>0.000000</td></tr>\n",
       "</tbody>\n",
       "</table>\n"
      ],
      "text/latex": [
       "A rowwise\\_df: 47 × 3\n",
       "\\begin{tabular}{lll}\n",
       " fam & fpkmsum & fpkmlog\\\\\n",
       " <chr> & <dbl> & <dbl>\\\\\n",
       "\\hline\n",
       "\t Unknown       & 893746.12850 & 5.951215\\\\\n",
       "\t TcMar-Mariner & 112905.91164 & 5.052721\\\\\n",
       "\t I-Jockey      &  89740.52464 & 4.952993\\\\\n",
       "\t TcMar-Tc1     &  80399.22431 & 4.905257\\\\\n",
       "\t Helitron      &  73654.82300 & 4.867207\\\\\n",
       "\t R1-LOA        &  65688.08871 & 4.817493\\\\\n",
       "\t I             &  41143.12917 & 4.614308\\\\\n",
       "\t RTE-BovB      &  39223.35985 & 4.593556\\\\\n",
       "\t RTE-X         &  35165.59891 & 4.546130\\\\\n",
       "\t tRNA-V        &  34248.34530 & 4.534652\\\\\n",
       "\t hAT-Charlie   &  30223.52472 & 4.480359\\\\\n",
       "\t Gypsy         &  25878.22434 & 4.412951\\\\\n",
       "\t hAT-Ac        &  18867.95118 & 4.275748\\\\\n",
       "\t LINE          &  10098.98837 & 4.004321\\\\\n",
       "\t LTR           &  10082.59054 & 4.003615\\\\\n",
       "\t Penelope      &   7983.36508 & 3.902240\\\\\n",
       "\t PIF-Harbinger &   7123.39535 & 3.852748\\\\\n",
       "\t Pao           &   5669.56572 & 3.753626\\\\\n",
       "\t PiggyBac      &   5134.43451 & 3.710577\\\\\n",
       "\t L2            &   4428.20155 & 3.646325\\\\\n",
       "\t hAT-hAT19     &   4053.19796 & 3.607905\\\\\n",
       "\t R1            &   3993.67158 & 3.601481\\\\\n",
       "\t Merlin        &   3944.90354 & 3.596146\\\\\n",
       "\t Sola-1        &   3695.64910 & 3.567808\\\\\n",
       "\t Maverick      &   3399.93911 & 3.531599\\\\\n",
       "\t hAT           &   3339.37801 & 3.523796\\\\\n",
       "\t TcMar-Tigger  &   3170.58979 & 3.501277\\\\\n",
       "\t CR1           &   3066.69940 & 3.486813\\\\\n",
       "\t Copia         &   2455.21405 & 3.390266\\\\\n",
       "\t TcMar-Fot1    &   2287.91077 & 3.359629\\\\\n",
       "\t hAT-Tip100    &   2257.36080 & 3.353793\\\\\n",
       "\t RTE           &   2196.38815 & 3.341907\\\\\n",
       "\t Dong-R4       &   1708.83659 & 3.232955\\\\\n",
       "\t Crypton-H     &   1649.17047 & 3.217529\\\\\n",
       "\t Sola-2        &   1372.39185 & 3.137794\\\\\n",
       "\t hAT-Blackjack &   1324.69482 & 3.122444\\\\\n",
       "\t Crypton-I     &   1265.67803 & 3.102666\\\\\n",
       "\t hAT-hATm      &   1123.08632 & 3.050800\\\\\n",
       "\t RTE-RTE       &    932.35018 & 2.970045\\\\\n",
       "\t DNA           &    897.31761 & 2.953430\\\\\n",
       "\t hAT-hATx      &    314.00340 & 2.498315\\\\\n",
       "\t Zator         &    209.61184 & 2.323483\\\\\n",
       "\t MULE-MuDR     &    182.87468 & 2.264522\\\\\n",
       "\t CMC-Chapaev-3 &     81.82737 & 1.918174\\\\\n",
       "\t R2            &     54.39133 & 1.743442\\\\\n",
       "\t PIF-ISL2EU    &      0.00000 & 0.000000\\\\\n",
       "\t TcMar-ISRm11  &      0.00000 & 0.000000\\\\\n",
       "\\end{tabular}\n"
      ],
      "text/markdown": [
       "\n",
       "A rowwise_df: 47 × 3\n",
       "\n",
       "| fam &lt;chr&gt; | fpkmsum &lt;dbl&gt; | fpkmlog &lt;dbl&gt; |\n",
       "|---|---|---|\n",
       "| Unknown       | 893746.12850 | 5.951215 |\n",
       "| TcMar-Mariner | 112905.91164 | 5.052721 |\n",
       "| I-Jockey      |  89740.52464 | 4.952993 |\n",
       "| TcMar-Tc1     |  80399.22431 | 4.905257 |\n",
       "| Helitron      |  73654.82300 | 4.867207 |\n",
       "| R1-LOA        |  65688.08871 | 4.817493 |\n",
       "| I             |  41143.12917 | 4.614308 |\n",
       "| RTE-BovB      |  39223.35985 | 4.593556 |\n",
       "| RTE-X         |  35165.59891 | 4.546130 |\n",
       "| tRNA-V        |  34248.34530 | 4.534652 |\n",
       "| hAT-Charlie   |  30223.52472 | 4.480359 |\n",
       "| Gypsy         |  25878.22434 | 4.412951 |\n",
       "| hAT-Ac        |  18867.95118 | 4.275748 |\n",
       "| LINE          |  10098.98837 | 4.004321 |\n",
       "| LTR           |  10082.59054 | 4.003615 |\n",
       "| Penelope      |   7983.36508 | 3.902240 |\n",
       "| PIF-Harbinger |   7123.39535 | 3.852748 |\n",
       "| Pao           |   5669.56572 | 3.753626 |\n",
       "| PiggyBac      |   5134.43451 | 3.710577 |\n",
       "| L2            |   4428.20155 | 3.646325 |\n",
       "| hAT-hAT19     |   4053.19796 | 3.607905 |\n",
       "| R1            |   3993.67158 | 3.601481 |\n",
       "| Merlin        |   3944.90354 | 3.596146 |\n",
       "| Sola-1        |   3695.64910 | 3.567808 |\n",
       "| Maverick      |   3399.93911 | 3.531599 |\n",
       "| hAT           |   3339.37801 | 3.523796 |\n",
       "| TcMar-Tigger  |   3170.58979 | 3.501277 |\n",
       "| CR1           |   3066.69940 | 3.486813 |\n",
       "| Copia         |   2455.21405 | 3.390266 |\n",
       "| TcMar-Fot1    |   2287.91077 | 3.359629 |\n",
       "| hAT-Tip100    |   2257.36080 | 3.353793 |\n",
       "| RTE           |   2196.38815 | 3.341907 |\n",
       "| Dong-R4       |   1708.83659 | 3.232955 |\n",
       "| Crypton-H     |   1649.17047 | 3.217529 |\n",
       "| Sola-2        |   1372.39185 | 3.137794 |\n",
       "| hAT-Blackjack |   1324.69482 | 3.122444 |\n",
       "| Crypton-I     |   1265.67803 | 3.102666 |\n",
       "| hAT-hATm      |   1123.08632 | 3.050800 |\n",
       "| RTE-RTE       |    932.35018 | 2.970045 |\n",
       "| DNA           |    897.31761 | 2.953430 |\n",
       "| hAT-hATx      |    314.00340 | 2.498315 |\n",
       "| Zator         |    209.61184 | 2.323483 |\n",
       "| MULE-MuDR     |    182.87468 | 2.264522 |\n",
       "| CMC-Chapaev-3 |     81.82737 | 1.918174 |\n",
       "| R2            |     54.39133 | 1.743442 |\n",
       "| PIF-ISL2EU    |      0.00000 | 0.000000 |\n",
       "| TcMar-ISRm11  |      0.00000 | 0.000000 |\n",
       "\n"
      ],
      "text/plain": [
       "   fam           fpkmsum      fpkmlog \n",
       "1  Unknown       893746.12850 5.951215\n",
       "2  TcMar-Mariner 112905.91164 5.052721\n",
       "3  I-Jockey       89740.52464 4.952993\n",
       "4  TcMar-Tc1      80399.22431 4.905257\n",
       "5  Helitron       73654.82300 4.867207\n",
       "6  R1-LOA         65688.08871 4.817493\n",
       "7  I              41143.12917 4.614308\n",
       "8  RTE-BovB       39223.35985 4.593556\n",
       "9  RTE-X          35165.59891 4.546130\n",
       "10 tRNA-V         34248.34530 4.534652\n",
       "11 hAT-Charlie    30223.52472 4.480359\n",
       "12 Gypsy          25878.22434 4.412951\n",
       "13 hAT-Ac         18867.95118 4.275748\n",
       "14 LINE           10098.98837 4.004321\n",
       "15 LTR            10082.59054 4.003615\n",
       "16 Penelope        7983.36508 3.902240\n",
       "17 PIF-Harbinger   7123.39535 3.852748\n",
       "18 Pao             5669.56572 3.753626\n",
       "19 PiggyBac        5134.43451 3.710577\n",
       "20 L2              4428.20155 3.646325\n",
       "21 hAT-hAT19       4053.19796 3.607905\n",
       "22 R1              3993.67158 3.601481\n",
       "23 Merlin          3944.90354 3.596146\n",
       "24 Sola-1          3695.64910 3.567808\n",
       "25 Maverick        3399.93911 3.531599\n",
       "26 hAT             3339.37801 3.523796\n",
       "27 TcMar-Tigger    3170.58979 3.501277\n",
       "28 CR1             3066.69940 3.486813\n",
       "29 Copia           2455.21405 3.390266\n",
       "30 TcMar-Fot1      2287.91077 3.359629\n",
       "31 hAT-Tip100      2257.36080 3.353793\n",
       "32 RTE             2196.38815 3.341907\n",
       "33 Dong-R4         1708.83659 3.232955\n",
       "34 Crypton-H       1649.17047 3.217529\n",
       "35 Sola-2          1372.39185 3.137794\n",
       "36 hAT-Blackjack   1324.69482 3.122444\n",
       "37 Crypton-I       1265.67803 3.102666\n",
       "38 hAT-hATm        1123.08632 3.050800\n",
       "39 RTE-RTE          932.35018 2.970045\n",
       "40 DNA              897.31761 2.953430\n",
       "41 hAT-hATx         314.00340 2.498315\n",
       "42 Zator            209.61184 2.323483\n",
       "43 MULE-MuDR        182.87468 2.264522\n",
       "44 CMC-Chapaev-3     81.82737 1.918174\n",
       "45 R2                54.39133 1.743442\n",
       "46 PIF-ISL2EU         0.00000 0.000000\n",
       "47 TcMar-ISRm11       0.00000 0.000000"
      ]
     },
     "metadata": {},
     "output_type": "display_data"
    }
   ],
   "source": [
    "te_fpkm_premat <- te_fpkm %>% \n",
    "    group_by(fam) %>% \n",
    "    summarise(fpkmsum=sum(fpkm)) %>% \n",
    "    rowwise %>% \n",
    "    mutate(fpkmlog = log10(fpkmsum + 1))\n",
    "\n",
    "te_fpkm_premat <- te_fpkm_premat[order(-te_fpkm_premat$fpkmlog), ]\n",
    "te_fpkm_premat  <- te_fpkm_premat  %>% filter(fam != \"NA\")\n",
    "\n",
    "te_fpkm_premat"
   ]
  },
  {
   "cell_type": "code",
   "execution_count": 13,
   "id": "8ff1f2ff",
   "metadata": {},
   "outputs": [],
   "source": [
    "# write_tsv(x = te_fpkm_premat , file = \"./te_fpkm.tsv\")"
   ]
  },
  {
   "cell_type": "code",
   "execution_count": 33,
   "id": "00379914",
   "metadata": {},
   "outputs": [
    {
     "data": {
      "text/html": [
       "<table class=\"dataframe\">\n",
       "<caption>A data.frame: 6 × 1</caption>\n",
       "<thead>\n",
       "\t<tr><th></th><th scope=col>fpkmlog</th></tr>\n",
       "\t<tr><th></th><th scope=col>&lt;dbl&gt;</th></tr>\n",
       "</thead>\n",
       "<tbody>\n",
       "\t<tr><th scope=row>Unknown</th><td>5.951215</td></tr>\n",
       "\t<tr><th scope=row>TcMar-Mariner</th><td>5.052721</td></tr>\n",
       "\t<tr><th scope=row>I-Jockey</th><td>4.952993</td></tr>\n",
       "\t<tr><th scope=row>TcMar-Tc1</th><td>4.905257</td></tr>\n",
       "\t<tr><th scope=row>Helitron</th><td>4.867207</td></tr>\n",
       "\t<tr><th scope=row>R1-LOA</th><td>4.817493</td></tr>\n",
       "</tbody>\n",
       "</table>\n"
      ],
      "text/latex": [
       "A data.frame: 6 × 1\n",
       "\\begin{tabular}{r|l}\n",
       "  & fpkmlog\\\\\n",
       "  & <dbl>\\\\\n",
       "\\hline\n",
       "\tUnknown & 5.951215\\\\\n",
       "\tTcMar-Mariner & 5.052721\\\\\n",
       "\tI-Jockey & 4.952993\\\\\n",
       "\tTcMar-Tc1 & 4.905257\\\\\n",
       "\tHelitron & 4.867207\\\\\n",
       "\tR1-LOA & 4.817493\\\\\n",
       "\\end{tabular}\n"
      ],
      "text/markdown": [
       "\n",
       "A data.frame: 6 × 1\n",
       "\n",
       "| <!--/--> | fpkmlog &lt;dbl&gt; |\n",
       "|---|---|\n",
       "| Unknown | 5.951215 |\n",
       "| TcMar-Mariner | 5.052721 |\n",
       "| I-Jockey | 4.952993 |\n",
       "| TcMar-Tc1 | 4.905257 |\n",
       "| Helitron | 4.867207 |\n",
       "| R1-LOA | 4.817493 |\n",
       "\n"
      ],
      "text/plain": [
       "              fpkmlog \n",
       "Unknown       5.951215\n",
       "TcMar-Mariner 5.052721\n",
       "I-Jockey      4.952993\n",
       "TcMar-Tc1     4.905257\n",
       "Helitron      4.867207\n",
       "R1-LOA        4.817493"
      ]
     },
     "metadata": {},
     "output_type": "display_data"
    }
   ],
   "source": [
    "te_fpkm_premat <- te_fpkm_premat %>%\n",
    "    select(fam, fpkmlog) %>%\n",
    "    column_to_rownames(\"fam\")\n",
    "te_fpkm_premat %>% head"
   ]
  },
  {
   "cell_type": "markdown",
   "id": "838f9c13",
   "metadata": {},
   "source": [
    "**Getting embryo information**"
   ]
  },
  {
   "cell_type": "code",
   "execution_count": 17,
   "id": "4ff02308",
   "metadata": {},
   "outputs": [
    {
     "data": {
      "text/html": [
       "<table class=\"dataframe\">\n",
       "<caption>A tibble: 6 × 9</caption>\n",
       "<thead>\n",
       "\t<tr><th scope=col>geneid</th><th scope=col>sample</th><th scope=col>counts</th><th scope=col>total</th><th scope=col>len</th><th scope=col>cl</th><th scope=col>fam</th><th scope=col>fpkm</th><th scope=col>rpm</th></tr>\n",
       "\t<tr><th scope=col>&lt;chr&gt;</th><th scope=col>&lt;chr&gt;</th><th scope=col>&lt;dbl&gt;</th><th scope=col>&lt;dbl&gt;</th><th scope=col>&lt;dbl&gt;</th><th scope=col>&lt;chr&gt;</th><th scope=col>&lt;chr&gt;</th><th scope=col>&lt;dbl&gt;</th><th scope=col>&lt;dbl&gt;</th></tr>\n",
       "</thead>\n",
       "<tbody>\n",
       "\t<tr><td>RPRC000679-RA</td><td>PVS1   </td><td>827.00</td><td>35767404</td><td>327</td><td>transcript</td><td>transcript</td><td>70.708290</td><td>827.00</td></tr>\n",
       "\t<tr><td>RPRC000679-RA</td><td>PVS2   </td><td>403.17</td><td>23340115</td><td>327</td><td>transcript</td><td>transcript</td><td>52.824752</td><td>403.17</td></tr>\n",
       "\t<tr><td>RPRC000679-RA</td><td>Egg1   </td><td>201.00</td><td>26268998</td><td>327</td><td>transcript</td><td>transcript</td><td>23.399404</td><td>201.00</td></tr>\n",
       "\t<tr><td>RPRC000679-RA</td><td>Egg2   </td><td>143.00</td><td>21101288</td><td>327</td><td>transcript</td><td>transcript</td><td>20.724274</td><td>143.00</td></tr>\n",
       "\t<tr><td>RPRC000679-RA</td><td>Emb1_0h</td><td> 20.00</td><td>10554397</td><td>327</td><td>transcript</td><td>transcript</td><td> 5.794938</td><td> 20.00</td></tr>\n",
       "\t<tr><td>RPRC000679-RA</td><td>Nym1   </td><td> 74.00</td><td>13525392</td><td>327</td><td>transcript</td><td>transcript</td><td>16.731470</td><td> 74.00</td></tr>\n",
       "</tbody>\n",
       "</table>\n"
      ],
      "text/latex": [
       "A tibble: 6 × 9\n",
       "\\begin{tabular}{lllllllll}\n",
       " geneid & sample & counts & total & len & cl & fam & fpkm & rpm\\\\\n",
       " <chr> & <chr> & <dbl> & <dbl> & <dbl> & <chr> & <chr> & <dbl> & <dbl>\\\\\n",
       "\\hline\n",
       "\t RPRC000679-RA & PVS1    & 827.00 & 35767404 & 327 & transcript & transcript & 70.708290 & 827.00\\\\\n",
       "\t RPRC000679-RA & PVS2    & 403.17 & 23340115 & 327 & transcript & transcript & 52.824752 & 403.17\\\\\n",
       "\t RPRC000679-RA & Egg1    & 201.00 & 26268998 & 327 & transcript & transcript & 23.399404 & 201.00\\\\\n",
       "\t RPRC000679-RA & Egg2    & 143.00 & 21101288 & 327 & transcript & transcript & 20.724274 & 143.00\\\\\n",
       "\t RPRC000679-RA & Emb1\\_0h &  20.00 & 10554397 & 327 & transcript & transcript &  5.794938 &  20.00\\\\\n",
       "\t RPRC000679-RA & Nym1    &  74.00 & 13525392 & 327 & transcript & transcript & 16.731470 &  74.00\\\\\n",
       "\\end{tabular}\n"
      ],
      "text/markdown": [
       "\n",
       "A tibble: 6 × 9\n",
       "\n",
       "| geneid &lt;chr&gt; | sample &lt;chr&gt; | counts &lt;dbl&gt; | total &lt;dbl&gt; | len &lt;dbl&gt; | cl &lt;chr&gt; | fam &lt;chr&gt; | fpkm &lt;dbl&gt; | rpm &lt;dbl&gt; |\n",
       "|---|---|---|---|---|---|---|---|---|\n",
       "| RPRC000679-RA | PVS1    | 827.00 | 35767404 | 327 | transcript | transcript | 70.708290 | 827.00 |\n",
       "| RPRC000679-RA | PVS2    | 403.17 | 23340115 | 327 | transcript | transcript | 52.824752 | 403.17 |\n",
       "| RPRC000679-RA | Egg1    | 201.00 | 26268998 | 327 | transcript | transcript | 23.399404 | 201.00 |\n",
       "| RPRC000679-RA | Egg2    | 143.00 | 21101288 | 327 | transcript | transcript | 20.724274 | 143.00 |\n",
       "| RPRC000679-RA | Emb1_0h |  20.00 | 10554397 | 327 | transcript | transcript |  5.794938 |  20.00 |\n",
       "| RPRC000679-RA | Nym1    |  74.00 | 13525392 | 327 | transcript | transcript | 16.731470 |  74.00 |\n",
       "\n"
      ],
      "text/plain": [
       "  geneid        sample  counts total    len cl         fam        fpkm     \n",
       "1 RPRC000679-RA PVS1    827.00 35767404 327 transcript transcript 70.708290\n",
       "2 RPRC000679-RA PVS2    403.17 23340115 327 transcript transcript 52.824752\n",
       "3 RPRC000679-RA Egg1    201.00 26268998 327 transcript transcript 23.399404\n",
       "4 RPRC000679-RA Egg2    143.00 21101288 327 transcript transcript 20.724274\n",
       "5 RPRC000679-RA Emb1_0h  20.00 10554397 327 transcript transcript  5.794938\n",
       "6 RPRC000679-RA Nym1     74.00 13525392 327 transcript transcript 16.731470\n",
       "  rpm   \n",
       "1 827.00\n",
       "2 403.17\n",
       "3 201.00\n",
       "4 143.00\n",
       "5  20.00\n",
       "6  74.00"
      ]
     },
     "metadata": {},
     "output_type": "display_data"
    }
   ],
   "source": [
    "tarcisio_fpkm <- read_tsv(\"/home5/attilio/Tarcisio/smallrna_rhodnius_2023/reports/tables/fpkm.tsv\")  %>% suppressMessages\n",
    "tarcisio_fpkm %>% head"
   ]
  },
  {
   "cell_type": "code",
   "execution_count": 29,
   "id": "9d445f4d",
   "metadata": {},
   "outputs": [
    {
     "data": {
      "text/html": [
       "<table class=\"dataframe\">\n",
       "<caption>A tibble: 6 × 9</caption>\n",
       "<thead>\n",
       "\t<tr><th scope=col>geneid</th><th scope=col>sample</th><th scope=col>counts</th><th scope=col>total</th><th scope=col>len</th><th scope=col>cl</th><th scope=col>fam</th><th scope=col>fpkm</th><th scope=col>rpm</th></tr>\n",
       "\t<tr><th scope=col>&lt;chr&gt;</th><th scope=col>&lt;chr&gt;</th><th scope=col>&lt;dbl&gt;</th><th scope=col>&lt;dbl&gt;</th><th scope=col>&lt;dbl&gt;</th><th scope=col>&lt;chr&gt;</th><th scope=col>&lt;chr&gt;</th><th scope=col>&lt;dbl&gt;</th><th scope=col>&lt;dbl&gt;</th></tr>\n",
       "</thead>\n",
       "<tbody>\n",
       "\t<tr><td>rnd-1_family-27       </td><td>Emb1_0h</td><td>0</td><td>10554397</td><td> 445</td><td>Unknown</td><td>Unknown </td><td>0</td><td>0</td></tr>\n",
       "\t<tr><td>rnd-5_family-2165     </td><td>Emb1_0h</td><td>0</td><td>10554397</td><td>1289</td><td>LINE   </td><td>RTE-RTE </td><td>0</td><td>0</td></tr>\n",
       "\t<tr><td>rnd-5_family-2165_dup1</td><td>Emb1_0h</td><td>0</td><td>10554397</td><td> 697</td><td>LINE   </td><td>RTE-RTE </td><td>0</td><td>0</td></tr>\n",
       "\t<tr><td>rnd-3_family-27       </td><td>Emb1_0h</td><td>0</td><td>10554397</td><td> 124</td><td>LINE   </td><td>LINE    </td><td>0</td><td>0</td></tr>\n",
       "\t<tr><td>rnd-6_family-4962     </td><td>Emb1_0h</td><td>0</td><td>10554397</td><td> 171</td><td>LINE   </td><td>RTE-BovB</td><td>0</td><td>0</td></tr>\n",
       "\t<tr><td>rnd-1_family-344      </td><td>Emb1_0h</td><td>0</td><td>10554397</td><td> 324</td><td>LINE   </td><td>RTE-BovB</td><td>0</td><td>0</td></tr>\n",
       "</tbody>\n",
       "</table>\n"
      ],
      "text/latex": [
       "A tibble: 6 × 9\n",
       "\\begin{tabular}{lllllllll}\n",
       " geneid & sample & counts & total & len & cl & fam & fpkm & rpm\\\\\n",
       " <chr> & <chr> & <dbl> & <dbl> & <dbl> & <chr> & <chr> & <dbl> & <dbl>\\\\\n",
       "\\hline\n",
       "\t rnd-1\\_family-27        & Emb1\\_0h & 0 & 10554397 &  445 & Unknown & Unknown  & 0 & 0\\\\\n",
       "\t rnd-5\\_family-2165      & Emb1\\_0h & 0 & 10554397 & 1289 & LINE    & RTE-RTE  & 0 & 0\\\\\n",
       "\t rnd-5\\_family-2165\\_dup1 & Emb1\\_0h & 0 & 10554397 &  697 & LINE    & RTE-RTE  & 0 & 0\\\\\n",
       "\t rnd-3\\_family-27        & Emb1\\_0h & 0 & 10554397 &  124 & LINE    & LINE     & 0 & 0\\\\\n",
       "\t rnd-6\\_family-4962      & Emb1\\_0h & 0 & 10554397 &  171 & LINE    & RTE-BovB & 0 & 0\\\\\n",
       "\t rnd-1\\_family-344       & Emb1\\_0h & 0 & 10554397 &  324 & LINE    & RTE-BovB & 0 & 0\\\\\n",
       "\\end{tabular}\n"
      ],
      "text/markdown": [
       "\n",
       "A tibble: 6 × 9\n",
       "\n",
       "| geneid &lt;chr&gt; | sample &lt;chr&gt; | counts &lt;dbl&gt; | total &lt;dbl&gt; | len &lt;dbl&gt; | cl &lt;chr&gt; | fam &lt;chr&gt; | fpkm &lt;dbl&gt; | rpm &lt;dbl&gt; |\n",
       "|---|---|---|---|---|---|---|---|---|\n",
       "| rnd-1_family-27        | Emb1_0h | 0 | 10554397 |  445 | Unknown | Unknown  | 0 | 0 |\n",
       "| rnd-5_family-2165      | Emb1_0h | 0 | 10554397 | 1289 | LINE    | RTE-RTE  | 0 | 0 |\n",
       "| rnd-5_family-2165_dup1 | Emb1_0h | 0 | 10554397 |  697 | LINE    | RTE-RTE  | 0 | 0 |\n",
       "| rnd-3_family-27        | Emb1_0h | 0 | 10554397 |  124 | LINE    | LINE     | 0 | 0 |\n",
       "| rnd-6_family-4962      | Emb1_0h | 0 | 10554397 |  171 | LINE    | RTE-BovB | 0 | 0 |\n",
       "| rnd-1_family-344       | Emb1_0h | 0 | 10554397 |  324 | LINE    | RTE-BovB | 0 | 0 |\n",
       "\n"
      ],
      "text/plain": [
       "  geneid                 sample  counts total    len  cl      fam      fpkm rpm\n",
       "1 rnd-1_family-27        Emb1_0h 0      10554397  445 Unknown Unknown  0    0  \n",
       "2 rnd-5_family-2165      Emb1_0h 0      10554397 1289 LINE    RTE-RTE  0    0  \n",
       "3 rnd-5_family-2165_dup1 Emb1_0h 0      10554397  697 LINE    RTE-RTE  0    0  \n",
       "4 rnd-3_family-27        Emb1_0h 0      10554397  124 LINE    LINE     0    0  \n",
       "5 rnd-6_family-4962      Emb1_0h 0      10554397  171 LINE    RTE-BovB 0    0  \n",
       "6 rnd-1_family-344       Emb1_0h 0      10554397  324 LINE    RTE-BovB 0    0  "
      ]
     },
     "metadata": {},
     "output_type": "display_data"
    }
   ],
   "source": [
    "testando <- tarcisio_fpkm %>% \n",
    "    filter(str_detect(sample, \"^Emb|^emb\")) %>% \n",
    "    filter(! str_detect(geneid, \"^RPR\")) \n",
    "\n",
    "testando %>% head"
   ]
  },
  {
   "cell_type": "code",
   "execution_count": 30,
   "id": "9f59fd1a",
   "metadata": {},
   "outputs": [
    {
     "name": "stderr",
     "output_type": "stream",
     "text": [
      "\u001b[1m\u001b[22m`summarise()` has grouped output by 'sample'. You can override using the `.groups` argument.\n"
     ]
    },
    {
     "data": {
      "text/html": [
       "<table class=\"dataframe\">\n",
       "<caption>A rowwise_df: 6 × 4</caption>\n",
       "<thead>\n",
       "\t<tr><th scope=col>sample</th><th scope=col>fam</th><th scope=col>fpkmsum</th><th scope=col>fpkmlog</th></tr>\n",
       "\t<tr><th scope=col>&lt;chr&gt;</th><th scope=col>&lt;chr&gt;</th><th scope=col>&lt;dbl&gt;</th><th scope=col>&lt;dbl&gt;</th></tr>\n",
       "</thead>\n",
       "<tbody>\n",
       "\t<tr><td>Emb1_0h</td><td>CMC-Chapaev-3</td><td>4.492710e-01</td><td>0.161149589</td></tr>\n",
       "\t<tr><td>Emb1_0h</td><td>CR1          </td><td>9.479821e-03</td><td>0.004097642</td></tr>\n",
       "\t<tr><td>Emb1_0h</td><td>Copia        </td><td>1.248937e+02</td><td>2.100003855</td></tr>\n",
       "\t<tr><td>Emb1_0h</td><td>Crypton-H    </td><td>0.000000e+00</td><td>0.000000000</td></tr>\n",
       "\t<tr><td>Emb1_0h</td><td>Crypton-I    </td><td>6.700654e-02</td><td>0.028167080</td></tr>\n",
       "\t<tr><td>Emb1_0h</td><td>DNA          </td><td>0.000000e+00</td><td>0.000000000</td></tr>\n",
       "</tbody>\n",
       "</table>\n"
      ],
      "text/latex": [
       "A rowwise\\_df: 6 × 4\n",
       "\\begin{tabular}{llll}\n",
       " sample & fam & fpkmsum & fpkmlog\\\\\n",
       " <chr> & <chr> & <dbl> & <dbl>\\\\\n",
       "\\hline\n",
       "\t Emb1\\_0h & CMC-Chapaev-3 & 4.492710e-01 & 0.161149589\\\\\n",
       "\t Emb1\\_0h & CR1           & 9.479821e-03 & 0.004097642\\\\\n",
       "\t Emb1\\_0h & Copia         & 1.248937e+02 & 2.100003855\\\\\n",
       "\t Emb1\\_0h & Crypton-H     & 0.000000e+00 & 0.000000000\\\\\n",
       "\t Emb1\\_0h & Crypton-I     & 6.700654e-02 & 0.028167080\\\\\n",
       "\t Emb1\\_0h & DNA           & 0.000000e+00 & 0.000000000\\\\\n",
       "\\end{tabular}\n"
      ],
      "text/markdown": [
       "\n",
       "A rowwise_df: 6 × 4\n",
       "\n",
       "| sample &lt;chr&gt; | fam &lt;chr&gt; | fpkmsum &lt;dbl&gt; | fpkmlog &lt;dbl&gt; |\n",
       "|---|---|---|---|\n",
       "| Emb1_0h | CMC-Chapaev-3 | 4.492710e-01 | 0.161149589 |\n",
       "| Emb1_0h | CR1           | 9.479821e-03 | 0.004097642 |\n",
       "| Emb1_0h | Copia         | 1.248937e+02 | 2.100003855 |\n",
       "| Emb1_0h | Crypton-H     | 0.000000e+00 | 0.000000000 |\n",
       "| Emb1_0h | Crypton-I     | 6.700654e-02 | 0.028167080 |\n",
       "| Emb1_0h | DNA           | 0.000000e+00 | 0.000000000 |\n",
       "\n"
      ],
      "text/plain": [
       "  sample  fam           fpkmsum      fpkmlog    \n",
       "1 Emb1_0h CMC-Chapaev-3 4.492710e-01 0.161149589\n",
       "2 Emb1_0h CR1           9.479821e-03 0.004097642\n",
       "3 Emb1_0h Copia         1.248937e+02 2.100003855\n",
       "4 Emb1_0h Crypton-H     0.000000e+00 0.000000000\n",
       "5 Emb1_0h Crypton-I     6.700654e-02 0.028167080\n",
       "6 Emb1_0h DNA           0.000000e+00 0.000000000"
      ]
     },
     "metadata": {},
     "output_type": "display_data"
    }
   ],
   "source": [
    "testando_te_fpkm_premat <- testando  %>% \n",
    "    group_by(sample,fam) %>% \n",
    "    summarise(fpkmsum=sum(fpkm)) %>% \n",
    "    rowwise %>% \n",
    "    mutate(fpkmlog = log10(fpkmsum + 1))\n",
    "\n",
    "testando_te_fpkm_premat %>% head"
   ]
  },
  {
   "cell_type": "code",
   "execution_count": 31,
   "id": "93a4f26f",
   "metadata": {},
   "outputs": [
    {
     "data": {
      "text/html": [
       "<table class=\"dataframe\">\n",
       "<caption>A data.frame: 6 × 7</caption>\n",
       "<thead>\n",
       "\t<tr><th></th><th scope=col>Emb1_0h</th><th scope=col>emb1_0-6</th><th scope=col>emb1_6-12</th><th scope=col>emb2_6-12</th><th scope=col>emb_12h</th><th scope=col>emb_24h</th><th scope=col>emb_48h</th></tr>\n",
       "\t<tr><th></th><th scope=col>&lt;dbl&gt;</th><th scope=col>&lt;dbl&gt;</th><th scope=col>&lt;dbl&gt;</th><th scope=col>&lt;dbl&gt;</th><th scope=col>&lt;dbl&gt;</th><th scope=col>&lt;dbl&gt;</th><th scope=col>&lt;dbl&gt;</th></tr>\n",
       "</thead>\n",
       "<tbody>\n",
       "\t<tr><th scope=row>CMC-Chapaev-3</th><td>0.161149589</td><td>0.1416501</td><td>0.3858548</td><td>0.07215459</td><td>0.016649364</td><td>0.002301889</td><td>0.1775116</td></tr>\n",
       "\t<tr><th scope=row>CR1</th><td>0.004097642</td><td>1.2420996</td><td>1.4646557</td><td>1.42104224</td><td>0.044509504</td><td>0.129717154</td><td>0.3571399</td></tr>\n",
       "\t<tr><th scope=row>Copia</th><td>2.100003855</td><td>2.5173934</td><td>2.3489403</td><td>2.37858448</td><td>2.445890385</td><td>2.344250174</td><td>2.3430664</td></tr>\n",
       "\t<tr><th scope=row>Crypton-H</th><td>0.000000000</td><td>1.8121490</td><td>1.9028736</td><td>1.97480535</td><td>0.000000000</td><td>0.000000000</td><td>0.0000000</td></tr>\n",
       "\t<tr><th scope=row>Crypton-I</th><td>0.028167080</td><td>0.9485412</td><td>1.1690176</td><td>1.24966273</td><td>0.105677137</td><td>0.124677277</td><td>0.3097314</td></tr>\n",
       "\t<tr><th scope=row>DNA</th><td>0.000000000</td><td>0.9008326</td><td>1.1566545</td><td>1.14754805</td><td>0.006549792</td><td>0.019019285</td><td>0.0000000</td></tr>\n",
       "</tbody>\n",
       "</table>\n"
      ],
      "text/latex": [
       "A data.frame: 6 × 7\n",
       "\\begin{tabular}{r|lllllll}\n",
       "  & Emb1\\_0h & emb1\\_0-6 & emb1\\_6-12 & emb2\\_6-12 & emb\\_12h & emb\\_24h & emb\\_48h\\\\\n",
       "  & <dbl> & <dbl> & <dbl> & <dbl> & <dbl> & <dbl> & <dbl>\\\\\n",
       "\\hline\n",
       "\tCMC-Chapaev-3 & 0.161149589 & 0.1416501 & 0.3858548 & 0.07215459 & 0.016649364 & 0.002301889 & 0.1775116\\\\\n",
       "\tCR1 & 0.004097642 & 1.2420996 & 1.4646557 & 1.42104224 & 0.044509504 & 0.129717154 & 0.3571399\\\\\n",
       "\tCopia & 2.100003855 & 2.5173934 & 2.3489403 & 2.37858448 & 2.445890385 & 2.344250174 & 2.3430664\\\\\n",
       "\tCrypton-H & 0.000000000 & 1.8121490 & 1.9028736 & 1.97480535 & 0.000000000 & 0.000000000 & 0.0000000\\\\\n",
       "\tCrypton-I & 0.028167080 & 0.9485412 & 1.1690176 & 1.24966273 & 0.105677137 & 0.124677277 & 0.3097314\\\\\n",
       "\tDNA & 0.000000000 & 0.9008326 & 1.1566545 & 1.14754805 & 0.006549792 & 0.019019285 & 0.0000000\\\\\n",
       "\\end{tabular}\n"
      ],
      "text/markdown": [
       "\n",
       "A data.frame: 6 × 7\n",
       "\n",
       "| <!--/--> | Emb1_0h &lt;dbl&gt; | emb1_0-6 &lt;dbl&gt; | emb1_6-12 &lt;dbl&gt; | emb2_6-12 &lt;dbl&gt; | emb_12h &lt;dbl&gt; | emb_24h &lt;dbl&gt; | emb_48h &lt;dbl&gt; |\n",
       "|---|---|---|---|---|---|---|---|\n",
       "| CMC-Chapaev-3 | 0.161149589 | 0.1416501 | 0.3858548 | 0.07215459 | 0.016649364 | 0.002301889 | 0.1775116 |\n",
       "| CR1 | 0.004097642 | 1.2420996 | 1.4646557 | 1.42104224 | 0.044509504 | 0.129717154 | 0.3571399 |\n",
       "| Copia | 2.100003855 | 2.5173934 | 2.3489403 | 2.37858448 | 2.445890385 | 2.344250174 | 2.3430664 |\n",
       "| Crypton-H | 0.000000000 | 1.8121490 | 1.9028736 | 1.97480535 | 0.000000000 | 0.000000000 | 0.0000000 |\n",
       "| Crypton-I | 0.028167080 | 0.9485412 | 1.1690176 | 1.24966273 | 0.105677137 | 0.124677277 | 0.3097314 |\n",
       "| DNA | 0.000000000 | 0.9008326 | 1.1566545 | 1.14754805 | 0.006549792 | 0.019019285 | 0.0000000 |\n",
       "\n"
      ],
      "text/plain": [
       "              Emb1_0h     emb1_0-6  emb1_6-12 emb2_6-12  emb_12h    \n",
       "CMC-Chapaev-3 0.161149589 0.1416501 0.3858548 0.07215459 0.016649364\n",
       "CR1           0.004097642 1.2420996 1.4646557 1.42104224 0.044509504\n",
       "Copia         2.100003855 2.5173934 2.3489403 2.37858448 2.445890385\n",
       "Crypton-H     0.000000000 1.8121490 1.9028736 1.97480535 0.000000000\n",
       "Crypton-I     0.028167080 0.9485412 1.1690176 1.24966273 0.105677137\n",
       "DNA           0.000000000 0.9008326 1.1566545 1.14754805 0.006549792\n",
       "              emb_24h     emb_48h  \n",
       "CMC-Chapaev-3 0.002301889 0.1775116\n",
       "CR1           0.129717154 0.3571399\n",
       "Copia         2.344250174 2.3430664\n",
       "Crypton-H     0.000000000 0.0000000\n",
       "Crypton-I     0.124677277 0.3097314\n",
       "DNA           0.019019285 0.0000000"
      ]
     },
     "metadata": {},
     "output_type": "display_data"
    }
   ],
   "source": [
    "testando <- testando_te_fpkm_premat %>% \n",
    "    ungroup %>% \n",
    "    select(sample, fam, fpkmlog) %>%\n",
    "    pivot_wider(names_from = sample, values_from=fpkmlog)  %>% \n",
    "    column_to_rownames(\"fam\")\n",
    "\n",
    "testando  %>% head"
   ]
  },
  {
   "cell_type": "code",
   "execution_count": 32,
   "id": "ce8ae1b7",
   "metadata": {},
   "outputs": [
    {
     "data": {
      "text/html": [
       "<table class=\"dataframe\">\n",
       "<caption>A data.frame: 6 × 4</caption>\n",
       "<thead>\n",
       "\t<tr><th></th><th scope=col>Emb1_0h</th><th scope=col>Emb_12h</th><th scope=col>Emb_24h</th><th scope=col>Emb_48h</th></tr>\n",
       "\t<tr><th></th><th scope=col>&lt;dbl&gt;</th><th scope=col>&lt;dbl&gt;</th><th scope=col>&lt;dbl&gt;</th><th scope=col>&lt;dbl&gt;</th></tr>\n",
       "</thead>\n",
       "<tbody>\n",
       "\t<tr><th scope=row>CMC-Chapaev-3</th><td>0.161149589</td><td>0.016649364</td><td>0.002301889</td><td>0.1775116</td></tr>\n",
       "\t<tr><th scope=row>CR1</th><td>0.004097642</td><td>0.044509504</td><td>0.129717154</td><td>0.3571399</td></tr>\n",
       "\t<tr><th scope=row>Copia</th><td>2.100003855</td><td>2.445890385</td><td>2.344250174</td><td>2.3430664</td></tr>\n",
       "\t<tr><th scope=row>Crypton-H</th><td>0.000000000</td><td>0.000000000</td><td>0.000000000</td><td>0.0000000</td></tr>\n",
       "\t<tr><th scope=row>Crypton-I</th><td>0.028167080</td><td>0.105677137</td><td>0.124677277</td><td>0.3097314</td></tr>\n",
       "\t<tr><th scope=row>DNA</th><td>0.000000000</td><td>0.006549792</td><td>0.019019285</td><td>0.0000000</td></tr>\n",
       "</tbody>\n",
       "</table>\n"
      ],
      "text/latex": [
       "A data.frame: 6 × 4\n",
       "\\begin{tabular}{r|llll}\n",
       "  & Emb1\\_0h & Emb\\_12h & Emb\\_24h & Emb\\_48h\\\\\n",
       "  & <dbl> & <dbl> & <dbl> & <dbl>\\\\\n",
       "\\hline\n",
       "\tCMC-Chapaev-3 & 0.161149589 & 0.016649364 & 0.002301889 & 0.1775116\\\\\n",
       "\tCR1 & 0.004097642 & 0.044509504 & 0.129717154 & 0.3571399\\\\\n",
       "\tCopia & 2.100003855 & 2.445890385 & 2.344250174 & 2.3430664\\\\\n",
       "\tCrypton-H & 0.000000000 & 0.000000000 & 0.000000000 & 0.0000000\\\\\n",
       "\tCrypton-I & 0.028167080 & 0.105677137 & 0.124677277 & 0.3097314\\\\\n",
       "\tDNA & 0.000000000 & 0.006549792 & 0.019019285 & 0.0000000\\\\\n",
       "\\end{tabular}\n"
      ],
      "text/markdown": [
       "\n",
       "A data.frame: 6 × 4\n",
       "\n",
       "| <!--/--> | Emb1_0h &lt;dbl&gt; | Emb_12h &lt;dbl&gt; | Emb_24h &lt;dbl&gt; | Emb_48h &lt;dbl&gt; |\n",
       "|---|---|---|---|---|\n",
       "| CMC-Chapaev-3 | 0.161149589 | 0.016649364 | 0.002301889 | 0.1775116 |\n",
       "| CR1 | 0.004097642 | 0.044509504 | 0.129717154 | 0.3571399 |\n",
       "| Copia | 2.100003855 | 2.445890385 | 2.344250174 | 2.3430664 |\n",
       "| Crypton-H | 0.000000000 | 0.000000000 | 0.000000000 | 0.0000000 |\n",
       "| Crypton-I | 0.028167080 | 0.105677137 | 0.124677277 | 0.3097314 |\n",
       "| DNA | 0.000000000 | 0.006549792 | 0.019019285 | 0.0000000 |\n",
       "\n"
      ],
      "text/plain": [
       "              Emb1_0h     Emb_12h     Emb_24h     Emb_48h  \n",
       "CMC-Chapaev-3 0.161149589 0.016649364 0.002301889 0.1775116\n",
       "CR1           0.004097642 0.044509504 0.129717154 0.3571399\n",
       "Copia         2.100003855 2.445890385 2.344250174 2.3430664\n",
       "Crypton-H     0.000000000 0.000000000 0.000000000 0.0000000\n",
       "Crypton-I     0.028167080 0.105677137 0.124677277 0.3097314\n",
       "DNA           0.000000000 0.006549792 0.019019285 0.0000000"
      ]
     },
     "metadata": {},
     "output_type": "display_data"
    }
   ],
   "source": [
    "testando <- testando %>% \n",
    "    select(Emb1_0h, emb_12h, emb_24h, emb_48h)\n",
    "colnames(testando )[colnames(testando ) == \"emb_12h\"] <- \"Emb_12h\"\n",
    "colnames(testando )[colnames(testando ) == \"emb_24h\"] <- \"Emb_24h\"\n",
    "colnames(testando )[colnames(testando ) == \"emb_48h\"] <- \"Emb_48h\"\n",
    "testando  %>% head"
   ]
  },
  {
   "cell_type": "markdown",
   "id": "358f101e",
   "metadata": {},
   "source": [
    "### Cell-line + Embryos"
   ]
  },
  {
   "cell_type": "code",
   "execution_count": 34,
   "id": "c4335fca",
   "metadata": {},
   "outputs": [
    {
     "data": {
      "text/html": [
       "<table class=\"dataframe\">\n",
       "<caption>A data.frame: 47 × 5</caption>\n",
       "<thead>\n",
       "\t<tr><th></th><th scope=col>Cell_line</th><th scope=col>Emb1_0h</th><th scope=col>Emb_12h</th><th scope=col>Emb_24h</th><th scope=col>Emb_48h</th></tr>\n",
       "\t<tr><th></th><th scope=col>&lt;dbl&gt;</th><th scope=col>&lt;dbl&gt;</th><th scope=col>&lt;dbl&gt;</th><th scope=col>&lt;dbl&gt;</th><th scope=col>&lt;dbl&gt;</th></tr>\n",
       "</thead>\n",
       "<tbody>\n",
       "\t<tr><th scope=row>Unknown</th><td>5.951215</td><td>4.071929945</td><td>3.935254649</td><td>3.938380533</td><td>3.97594746</td></tr>\n",
       "\t<tr><th scope=row>TcMar-Mariner</th><td>5.052721</td><td>3.092960327</td><td>2.071163123</td><td>1.975522652</td><td>2.32841101</td></tr>\n",
       "\t<tr><th scope=row>I-Jockey</th><td>4.952993</td><td>2.362354076</td><td>2.230643890</td><td>2.071376614</td><td>2.09952031</td></tr>\n",
       "\t<tr><th scope=row>TcMar-Tc1</th><td>4.905257</td><td>1.610711301</td><td>2.236640371</td><td>2.071001961</td><td>2.25617940</td></tr>\n",
       "\t<tr><th scope=row>Helitron</th><td>4.867207</td><td>2.038176075</td><td>1.926386959</td><td>1.765802263</td><td>1.92919648</td></tr>\n",
       "\t<tr><th scope=row>R1-LOA</th><td>4.817493</td><td>1.574232122</td><td>1.698397575</td><td>1.345952798</td><td>1.93518178</td></tr>\n",
       "\t<tr><th scope=row>I</th><td>4.614308</td><td>1.372765384</td><td>0.491760823</td><td>0.912527098</td><td>1.72050321</td></tr>\n",
       "\t<tr><th scope=row>RTE-BovB</th><td>4.593556</td><td>2.308918602</td><td>1.788807980</td><td>1.875775622</td><td>2.13350152</td></tr>\n",
       "\t<tr><th scope=row>RTE-X</th><td>4.546130</td><td>1.501380617</td><td>1.171404885</td><td>1.132587715</td><td>1.48556112</td></tr>\n",
       "\t<tr><th scope=row>tRNA-V</th><td>4.534652</td><td>0.729150983</td><td>1.417985562</td><td>1.268921188</td><td>1.41274602</td></tr>\n",
       "\t<tr><th scope=row>hAT-Charlie</th><td>4.480359</td><td>0.551944218</td><td>0.773213338</td><td>0.808350310</td><td>1.00888039</td></tr>\n",
       "\t<tr><th scope=row>Gypsy</th><td>4.412951</td><td>3.857805890</td><td>3.519548346</td><td>3.582751818</td><td>3.89889202</td></tr>\n",
       "\t<tr><th scope=row>hAT-Ac</th><td>4.275748</td><td>2.770931123</td><td>2.646294619</td><td>2.507893409</td><td>2.59361231</td></tr>\n",
       "\t<tr><th scope=row>LINE</th><td>4.004321</td><td>0.920533251</td><td>1.616586020</td><td>1.399681266</td><td>1.32041589</td></tr>\n",
       "\t<tr><th scope=row>LTR</th><td>4.003615</td><td>1.514917833</td><td>1.662071912</td><td>1.590668003</td><td>1.81498709</td></tr>\n",
       "\t<tr><th scope=row>Penelope</th><td>3.902240</td><td>1.374895016</td><td>1.518520389</td><td>1.369262012</td><td>1.33601423</td></tr>\n",
       "\t<tr><th scope=row>PIF-Harbinger</th><td>3.852748</td><td>0.134719421</td><td>1.328632064</td><td>1.235063477</td><td>1.73919996</td></tr>\n",
       "\t<tr><th scope=row>Pao</th><td>3.753626</td><td>0.893356980</td><td>0.058003992</td><td>0.157538979</td><td>1.02209215</td></tr>\n",
       "\t<tr><th scope=row>PiggyBac</th><td>3.710577</td><td>0.982519732</td><td>1.156883803</td><td>1.070301694</td><td>1.65394186</td></tr>\n",
       "\t<tr><th scope=row>L2</th><td>3.646325</td><td>0.732885939</td><td>1.220171272</td><td>1.146447910</td><td>1.35886570</td></tr>\n",
       "\t<tr><th scope=row>hAT-hAT19</th><td>3.607905</td><td>1.282627956</td><td>0.355925837</td><td>0.721799445</td><td>1.26642159</td></tr>\n",
       "\t<tr><th scope=row>R1</th><td>3.601481</td><td>1.879464891</td><td>0.757306891</td><td>0.910380289</td><td>1.00062274</td></tr>\n",
       "\t<tr><th scope=row>Merlin</th><td>3.596146</td><td>1.350697596</td><td>1.554057784</td><td>1.588604606</td><td>1.50423608</td></tr>\n",
       "\t<tr><th scope=row>Sola-1</th><td>3.567808</td><td>0.000000000</td><td>0.870659485</td><td>0.780266942</td><td>0.90715033</td></tr>\n",
       "\t<tr><th scope=row>Maverick</th><td>3.531599</td><td>0.329082732</td><td>0.392941285</td><td>0.296936678</td><td>0.64694936</td></tr>\n",
       "\t<tr><th scope=row>hAT</th><td>3.523796</td><td>0.225731694</td><td>0.014291502</td><td>0.000000000</td><td>0.11586038</td></tr>\n",
       "\t<tr><th scope=row>TcMar-Tigger</th><td>3.501277</td><td>0.225804820</td><td>0.089228486</td><td>0.297082628</td><td>0.65712738</td></tr>\n",
       "\t<tr><th scope=row>CR1</th><td>3.486813</td><td>0.004097642</td><td>0.044509504</td><td>0.129717154</td><td>0.35713991</td></tr>\n",
       "\t<tr><th scope=row>Copia</th><td>3.390266</td><td>2.100003855</td><td>2.445890385</td><td>2.344250174</td><td>2.34306636</td></tr>\n",
       "\t<tr><th scope=row>TcMar-Fot1</th><td>3.359629</td><td>0.375275418</td><td>0.073220035</td><td>0.372919353</td><td>0.97326610</td></tr>\n",
       "\t<tr><th scope=row>hAT-Tip100</th><td>3.353793</td><td>0.000000000</td><td>0.015935354</td><td>0.017122040</td><td>0.12000198</td></tr>\n",
       "\t<tr><th scope=row>RTE</th><td>3.341907</td><td>0.852471426</td><td>0.368875947</td><td>0.186948946</td><td>0.54756589</td></tr>\n",
       "\t<tr><th scope=row>Dong-R4</th><td>3.232955</td><td>1.265890993</td><td>1.459637131</td><td>1.425935152</td><td>1.39016501</td></tr>\n",
       "\t<tr><th scope=row>Crypton-H</th><td>3.217529</td><td>0.000000000</td><td>0.000000000</td><td>0.000000000</td><td>0.00000000</td></tr>\n",
       "\t<tr><th scope=row>Sola-2</th><td>3.137794</td><td>0.383332399</td><td>0.875704963</td><td>0.837150533</td><td>1.04626644</td></tr>\n",
       "\t<tr><th scope=row>hAT-Blackjack</th><td>3.122444</td><td>0.196551273</td><td>0.022261426</td><td>0.368003968</td><td>0.61317279</td></tr>\n",
       "\t<tr><th scope=row>Crypton-I</th><td>3.102666</td><td>0.028167080</td><td>0.105677137</td><td>0.124677277</td><td>0.30973135</td></tr>\n",
       "\t<tr><th scope=row>hAT-hATm</th><td>3.050800</td><td>1.500422002</td><td>0.995763383</td><td>0.988677355</td><td>1.32369867</td></tr>\n",
       "\t<tr><th scope=row>RTE-RTE</th><td>2.970045</td><td>0.132154851</td><td>0.059243153</td><td>0.125786517</td><td>0.16859335</td></tr>\n",
       "\t<tr><th scope=row>DNA</th><td>2.953430</td><td>0.000000000</td><td>0.006549792</td><td>0.019019285</td><td>0.00000000</td></tr>\n",
       "\t<tr><th scope=row>hAT-hATx</th><td>2.498315</td><td>0.101379754</td><td>0.001214835</td><td>0.052305541</td><td>0.11222208</td></tr>\n",
       "\t<tr><th scope=row>Zator</th><td>2.323483</td><td>0.000000000</td><td>0.000000000</td><td>0.000000000</td><td>0.00000000</td></tr>\n",
       "\t<tr><th scope=row>MULE-MuDR</th><td>2.264522</td><td>0.000000000</td><td>0.000000000</td><td>0.000000000</td><td>0.00000000</td></tr>\n",
       "\t<tr><th scope=row>CMC-Chapaev-3</th><td>1.918174</td><td>0.161149589</td><td>0.016649364</td><td>0.002301889</td><td>0.17751155</td></tr>\n",
       "\t<tr><th scope=row>R2</th><td>1.743442</td><td>0.005504785</td><td>0.000000000</td><td>0.000000000</td><td>0.06663396</td></tr>\n",
       "\t<tr><th scope=row>PIF-ISL2EU</th><td>0.000000</td><td>0.000000000</td><td>0.000000000</td><td>0.000000000</td><td>0.00000000</td></tr>\n",
       "\t<tr><th scope=row>TcMar-ISRm11</th><td>0.000000</td><td>0.000000000</td><td>0.000000000</td><td>0.000000000</td><td>0.00000000</td></tr>\n",
       "</tbody>\n",
       "</table>\n"
      ],
      "text/latex": [
       "A data.frame: 47 × 5\n",
       "\\begin{tabular}{r|lllll}\n",
       "  & Cell\\_line & Emb1\\_0h & Emb\\_12h & Emb\\_24h & Emb\\_48h\\\\\n",
       "  & <dbl> & <dbl> & <dbl> & <dbl> & <dbl>\\\\\n",
       "\\hline\n",
       "\tUnknown & 5.951215 & 4.071929945 & 3.935254649 & 3.938380533 & 3.97594746\\\\\n",
       "\tTcMar-Mariner & 5.052721 & 3.092960327 & 2.071163123 & 1.975522652 & 2.32841101\\\\\n",
       "\tI-Jockey & 4.952993 & 2.362354076 & 2.230643890 & 2.071376614 & 2.09952031\\\\\n",
       "\tTcMar-Tc1 & 4.905257 & 1.610711301 & 2.236640371 & 2.071001961 & 2.25617940\\\\\n",
       "\tHelitron & 4.867207 & 2.038176075 & 1.926386959 & 1.765802263 & 1.92919648\\\\\n",
       "\tR1-LOA & 4.817493 & 1.574232122 & 1.698397575 & 1.345952798 & 1.93518178\\\\\n",
       "\tI & 4.614308 & 1.372765384 & 0.491760823 & 0.912527098 & 1.72050321\\\\\n",
       "\tRTE-BovB & 4.593556 & 2.308918602 & 1.788807980 & 1.875775622 & 2.13350152\\\\\n",
       "\tRTE-X & 4.546130 & 1.501380617 & 1.171404885 & 1.132587715 & 1.48556112\\\\\n",
       "\ttRNA-V & 4.534652 & 0.729150983 & 1.417985562 & 1.268921188 & 1.41274602\\\\\n",
       "\thAT-Charlie & 4.480359 & 0.551944218 & 0.773213338 & 0.808350310 & 1.00888039\\\\\n",
       "\tGypsy & 4.412951 & 3.857805890 & 3.519548346 & 3.582751818 & 3.89889202\\\\\n",
       "\thAT-Ac & 4.275748 & 2.770931123 & 2.646294619 & 2.507893409 & 2.59361231\\\\\n",
       "\tLINE & 4.004321 & 0.920533251 & 1.616586020 & 1.399681266 & 1.32041589\\\\\n",
       "\tLTR & 4.003615 & 1.514917833 & 1.662071912 & 1.590668003 & 1.81498709\\\\\n",
       "\tPenelope & 3.902240 & 1.374895016 & 1.518520389 & 1.369262012 & 1.33601423\\\\\n",
       "\tPIF-Harbinger & 3.852748 & 0.134719421 & 1.328632064 & 1.235063477 & 1.73919996\\\\\n",
       "\tPao & 3.753626 & 0.893356980 & 0.058003992 & 0.157538979 & 1.02209215\\\\\n",
       "\tPiggyBac & 3.710577 & 0.982519732 & 1.156883803 & 1.070301694 & 1.65394186\\\\\n",
       "\tL2 & 3.646325 & 0.732885939 & 1.220171272 & 1.146447910 & 1.35886570\\\\\n",
       "\thAT-hAT19 & 3.607905 & 1.282627956 & 0.355925837 & 0.721799445 & 1.26642159\\\\\n",
       "\tR1 & 3.601481 & 1.879464891 & 0.757306891 & 0.910380289 & 1.00062274\\\\\n",
       "\tMerlin & 3.596146 & 1.350697596 & 1.554057784 & 1.588604606 & 1.50423608\\\\\n",
       "\tSola-1 & 3.567808 & 0.000000000 & 0.870659485 & 0.780266942 & 0.90715033\\\\\n",
       "\tMaverick & 3.531599 & 0.329082732 & 0.392941285 & 0.296936678 & 0.64694936\\\\\n",
       "\thAT & 3.523796 & 0.225731694 & 0.014291502 & 0.000000000 & 0.11586038\\\\\n",
       "\tTcMar-Tigger & 3.501277 & 0.225804820 & 0.089228486 & 0.297082628 & 0.65712738\\\\\n",
       "\tCR1 & 3.486813 & 0.004097642 & 0.044509504 & 0.129717154 & 0.35713991\\\\\n",
       "\tCopia & 3.390266 & 2.100003855 & 2.445890385 & 2.344250174 & 2.34306636\\\\\n",
       "\tTcMar-Fot1 & 3.359629 & 0.375275418 & 0.073220035 & 0.372919353 & 0.97326610\\\\\n",
       "\thAT-Tip100 & 3.353793 & 0.000000000 & 0.015935354 & 0.017122040 & 0.12000198\\\\\n",
       "\tRTE & 3.341907 & 0.852471426 & 0.368875947 & 0.186948946 & 0.54756589\\\\\n",
       "\tDong-R4 & 3.232955 & 1.265890993 & 1.459637131 & 1.425935152 & 1.39016501\\\\\n",
       "\tCrypton-H & 3.217529 & 0.000000000 & 0.000000000 & 0.000000000 & 0.00000000\\\\\n",
       "\tSola-2 & 3.137794 & 0.383332399 & 0.875704963 & 0.837150533 & 1.04626644\\\\\n",
       "\thAT-Blackjack & 3.122444 & 0.196551273 & 0.022261426 & 0.368003968 & 0.61317279\\\\\n",
       "\tCrypton-I & 3.102666 & 0.028167080 & 0.105677137 & 0.124677277 & 0.30973135\\\\\n",
       "\thAT-hATm & 3.050800 & 1.500422002 & 0.995763383 & 0.988677355 & 1.32369867\\\\\n",
       "\tRTE-RTE & 2.970045 & 0.132154851 & 0.059243153 & 0.125786517 & 0.16859335\\\\\n",
       "\tDNA & 2.953430 & 0.000000000 & 0.006549792 & 0.019019285 & 0.00000000\\\\\n",
       "\thAT-hATx & 2.498315 & 0.101379754 & 0.001214835 & 0.052305541 & 0.11222208\\\\\n",
       "\tZator & 2.323483 & 0.000000000 & 0.000000000 & 0.000000000 & 0.00000000\\\\\n",
       "\tMULE-MuDR & 2.264522 & 0.000000000 & 0.000000000 & 0.000000000 & 0.00000000\\\\\n",
       "\tCMC-Chapaev-3 & 1.918174 & 0.161149589 & 0.016649364 & 0.002301889 & 0.17751155\\\\\n",
       "\tR2 & 1.743442 & 0.005504785 & 0.000000000 & 0.000000000 & 0.06663396\\\\\n",
       "\tPIF-ISL2EU & 0.000000 & 0.000000000 & 0.000000000 & 0.000000000 & 0.00000000\\\\\n",
       "\tTcMar-ISRm11 & 0.000000 & 0.000000000 & 0.000000000 & 0.000000000 & 0.00000000\\\\\n",
       "\\end{tabular}\n"
      ],
      "text/markdown": [
       "\n",
       "A data.frame: 47 × 5\n",
       "\n",
       "| <!--/--> | Cell_line &lt;dbl&gt; | Emb1_0h &lt;dbl&gt; | Emb_12h &lt;dbl&gt; | Emb_24h &lt;dbl&gt; | Emb_48h &lt;dbl&gt; |\n",
       "|---|---|---|---|---|---|\n",
       "| Unknown | 5.951215 | 4.071929945 | 3.935254649 | 3.938380533 | 3.97594746 |\n",
       "| TcMar-Mariner | 5.052721 | 3.092960327 | 2.071163123 | 1.975522652 | 2.32841101 |\n",
       "| I-Jockey | 4.952993 | 2.362354076 | 2.230643890 | 2.071376614 | 2.09952031 |\n",
       "| TcMar-Tc1 | 4.905257 | 1.610711301 | 2.236640371 | 2.071001961 | 2.25617940 |\n",
       "| Helitron | 4.867207 | 2.038176075 | 1.926386959 | 1.765802263 | 1.92919648 |\n",
       "| R1-LOA | 4.817493 | 1.574232122 | 1.698397575 | 1.345952798 | 1.93518178 |\n",
       "| I | 4.614308 | 1.372765384 | 0.491760823 | 0.912527098 | 1.72050321 |\n",
       "| RTE-BovB | 4.593556 | 2.308918602 | 1.788807980 | 1.875775622 | 2.13350152 |\n",
       "| RTE-X | 4.546130 | 1.501380617 | 1.171404885 | 1.132587715 | 1.48556112 |\n",
       "| tRNA-V | 4.534652 | 0.729150983 | 1.417985562 | 1.268921188 | 1.41274602 |\n",
       "| hAT-Charlie | 4.480359 | 0.551944218 | 0.773213338 | 0.808350310 | 1.00888039 |\n",
       "| Gypsy | 4.412951 | 3.857805890 | 3.519548346 | 3.582751818 | 3.89889202 |\n",
       "| hAT-Ac | 4.275748 | 2.770931123 | 2.646294619 | 2.507893409 | 2.59361231 |\n",
       "| LINE | 4.004321 | 0.920533251 | 1.616586020 | 1.399681266 | 1.32041589 |\n",
       "| LTR | 4.003615 | 1.514917833 | 1.662071912 | 1.590668003 | 1.81498709 |\n",
       "| Penelope | 3.902240 | 1.374895016 | 1.518520389 | 1.369262012 | 1.33601423 |\n",
       "| PIF-Harbinger | 3.852748 | 0.134719421 | 1.328632064 | 1.235063477 | 1.73919996 |\n",
       "| Pao | 3.753626 | 0.893356980 | 0.058003992 | 0.157538979 | 1.02209215 |\n",
       "| PiggyBac | 3.710577 | 0.982519732 | 1.156883803 | 1.070301694 | 1.65394186 |\n",
       "| L2 | 3.646325 | 0.732885939 | 1.220171272 | 1.146447910 | 1.35886570 |\n",
       "| hAT-hAT19 | 3.607905 | 1.282627956 | 0.355925837 | 0.721799445 | 1.26642159 |\n",
       "| R1 | 3.601481 | 1.879464891 | 0.757306891 | 0.910380289 | 1.00062274 |\n",
       "| Merlin | 3.596146 | 1.350697596 | 1.554057784 | 1.588604606 | 1.50423608 |\n",
       "| Sola-1 | 3.567808 | 0.000000000 | 0.870659485 | 0.780266942 | 0.90715033 |\n",
       "| Maverick | 3.531599 | 0.329082732 | 0.392941285 | 0.296936678 | 0.64694936 |\n",
       "| hAT | 3.523796 | 0.225731694 | 0.014291502 | 0.000000000 | 0.11586038 |\n",
       "| TcMar-Tigger | 3.501277 | 0.225804820 | 0.089228486 | 0.297082628 | 0.65712738 |\n",
       "| CR1 | 3.486813 | 0.004097642 | 0.044509504 | 0.129717154 | 0.35713991 |\n",
       "| Copia | 3.390266 | 2.100003855 | 2.445890385 | 2.344250174 | 2.34306636 |\n",
       "| TcMar-Fot1 | 3.359629 | 0.375275418 | 0.073220035 | 0.372919353 | 0.97326610 |\n",
       "| hAT-Tip100 | 3.353793 | 0.000000000 | 0.015935354 | 0.017122040 | 0.12000198 |\n",
       "| RTE | 3.341907 | 0.852471426 | 0.368875947 | 0.186948946 | 0.54756589 |\n",
       "| Dong-R4 | 3.232955 | 1.265890993 | 1.459637131 | 1.425935152 | 1.39016501 |\n",
       "| Crypton-H | 3.217529 | 0.000000000 | 0.000000000 | 0.000000000 | 0.00000000 |\n",
       "| Sola-2 | 3.137794 | 0.383332399 | 0.875704963 | 0.837150533 | 1.04626644 |\n",
       "| hAT-Blackjack | 3.122444 | 0.196551273 | 0.022261426 | 0.368003968 | 0.61317279 |\n",
       "| Crypton-I | 3.102666 | 0.028167080 | 0.105677137 | 0.124677277 | 0.30973135 |\n",
       "| hAT-hATm | 3.050800 | 1.500422002 | 0.995763383 | 0.988677355 | 1.32369867 |\n",
       "| RTE-RTE | 2.970045 | 0.132154851 | 0.059243153 | 0.125786517 | 0.16859335 |\n",
       "| DNA | 2.953430 | 0.000000000 | 0.006549792 | 0.019019285 | 0.00000000 |\n",
       "| hAT-hATx | 2.498315 | 0.101379754 | 0.001214835 | 0.052305541 | 0.11222208 |\n",
       "| Zator | 2.323483 | 0.000000000 | 0.000000000 | 0.000000000 | 0.00000000 |\n",
       "| MULE-MuDR | 2.264522 | 0.000000000 | 0.000000000 | 0.000000000 | 0.00000000 |\n",
       "| CMC-Chapaev-3 | 1.918174 | 0.161149589 | 0.016649364 | 0.002301889 | 0.17751155 |\n",
       "| R2 | 1.743442 | 0.005504785 | 0.000000000 | 0.000000000 | 0.06663396 |\n",
       "| PIF-ISL2EU | 0.000000 | 0.000000000 | 0.000000000 | 0.000000000 | 0.00000000 |\n",
       "| TcMar-ISRm11 | 0.000000 | 0.000000000 | 0.000000000 | 0.000000000 | 0.00000000 |\n",
       "\n"
      ],
      "text/plain": [
       "              Cell_line Emb1_0h     Emb_12h     Emb_24h     Emb_48h   \n",
       "Unknown       5.951215  4.071929945 3.935254649 3.938380533 3.97594746\n",
       "TcMar-Mariner 5.052721  3.092960327 2.071163123 1.975522652 2.32841101\n",
       "I-Jockey      4.952993  2.362354076 2.230643890 2.071376614 2.09952031\n",
       "TcMar-Tc1     4.905257  1.610711301 2.236640371 2.071001961 2.25617940\n",
       "Helitron      4.867207  2.038176075 1.926386959 1.765802263 1.92919648\n",
       "R1-LOA        4.817493  1.574232122 1.698397575 1.345952798 1.93518178\n",
       "I             4.614308  1.372765384 0.491760823 0.912527098 1.72050321\n",
       "RTE-BovB      4.593556  2.308918602 1.788807980 1.875775622 2.13350152\n",
       "RTE-X         4.546130  1.501380617 1.171404885 1.132587715 1.48556112\n",
       "tRNA-V        4.534652  0.729150983 1.417985562 1.268921188 1.41274602\n",
       "hAT-Charlie   4.480359  0.551944218 0.773213338 0.808350310 1.00888039\n",
       "Gypsy         4.412951  3.857805890 3.519548346 3.582751818 3.89889202\n",
       "hAT-Ac        4.275748  2.770931123 2.646294619 2.507893409 2.59361231\n",
       "LINE          4.004321  0.920533251 1.616586020 1.399681266 1.32041589\n",
       "LTR           4.003615  1.514917833 1.662071912 1.590668003 1.81498709\n",
       "Penelope      3.902240  1.374895016 1.518520389 1.369262012 1.33601423\n",
       "PIF-Harbinger 3.852748  0.134719421 1.328632064 1.235063477 1.73919996\n",
       "Pao           3.753626  0.893356980 0.058003992 0.157538979 1.02209215\n",
       "PiggyBac      3.710577  0.982519732 1.156883803 1.070301694 1.65394186\n",
       "L2            3.646325  0.732885939 1.220171272 1.146447910 1.35886570\n",
       "hAT-hAT19     3.607905  1.282627956 0.355925837 0.721799445 1.26642159\n",
       "R1            3.601481  1.879464891 0.757306891 0.910380289 1.00062274\n",
       "Merlin        3.596146  1.350697596 1.554057784 1.588604606 1.50423608\n",
       "Sola-1        3.567808  0.000000000 0.870659485 0.780266942 0.90715033\n",
       "Maverick      3.531599  0.329082732 0.392941285 0.296936678 0.64694936\n",
       "hAT           3.523796  0.225731694 0.014291502 0.000000000 0.11586038\n",
       "TcMar-Tigger  3.501277  0.225804820 0.089228486 0.297082628 0.65712738\n",
       "CR1           3.486813  0.004097642 0.044509504 0.129717154 0.35713991\n",
       "Copia         3.390266  2.100003855 2.445890385 2.344250174 2.34306636\n",
       "TcMar-Fot1    3.359629  0.375275418 0.073220035 0.372919353 0.97326610\n",
       "hAT-Tip100    3.353793  0.000000000 0.015935354 0.017122040 0.12000198\n",
       "RTE           3.341907  0.852471426 0.368875947 0.186948946 0.54756589\n",
       "Dong-R4       3.232955  1.265890993 1.459637131 1.425935152 1.39016501\n",
       "Crypton-H     3.217529  0.000000000 0.000000000 0.000000000 0.00000000\n",
       "Sola-2        3.137794  0.383332399 0.875704963 0.837150533 1.04626644\n",
       "hAT-Blackjack 3.122444  0.196551273 0.022261426 0.368003968 0.61317279\n",
       "Crypton-I     3.102666  0.028167080 0.105677137 0.124677277 0.30973135\n",
       "hAT-hATm      3.050800  1.500422002 0.995763383 0.988677355 1.32369867\n",
       "RTE-RTE       2.970045  0.132154851 0.059243153 0.125786517 0.16859335\n",
       "DNA           2.953430  0.000000000 0.006549792 0.019019285 0.00000000\n",
       "hAT-hATx      2.498315  0.101379754 0.001214835 0.052305541 0.11222208\n",
       "Zator         2.323483  0.000000000 0.000000000 0.000000000 0.00000000\n",
       "MULE-MuDR     2.264522  0.000000000 0.000000000 0.000000000 0.00000000\n",
       "CMC-Chapaev-3 1.918174  0.161149589 0.016649364 0.002301889 0.17751155\n",
       "R2            1.743442  0.005504785 0.000000000 0.000000000 0.06663396\n",
       "PIF-ISL2EU    0.000000  0.000000000 0.000000000 0.000000000 0.00000000\n",
       "TcMar-ISRm11  0.000000  0.000000000 0.000000000 0.000000000 0.00000000"
      ]
     },
     "metadata": {},
     "output_type": "display_data"
    }
   ],
   "source": [
    "resultado <- merge(te_fpkm_premat, testando, by = \"row.names\", all.x = TRUE)\n",
    "\n",
    "rownames(resultado) <- resultado$Row.names\n",
    "resultado <- resultado[, -1]\n",
    "colnames(resultado)[colnames(resultado) == \"fpkmlog\"] <- \"Cell_line\"\n",
    "resultado <- resultado[order(-resultado$Cell_line), ]\n",
    "resultado"
   ]
  },
  {
   "cell_type": "code",
   "execution_count": 36,
   "id": "71c8bcb2",
   "metadata": {},
   "outputs": [],
   "source": [
    "write_tsv(x = resultado , file = \"./all_te_fpkm.tsv\")"
   ]
  },
  {
   "cell_type": "markdown",
   "id": "31bd06b9",
   "metadata": {},
   "source": [
    "### Plotting Expression Heatmap"
   ]
  },
  {
   "cell_type": "code",
   "execution_count": 35,
   "id": "879ba0fc",
   "metadata": {},
   "outputs": [
    {
     "data": {
      "image/png": "[encoded data removed]",
      "text/plain": [
       "plot without title"
      ]
     },
     "metadata": {
      "image/png": {
       "height": 750,
       "width": 600
      }
     },
     "output_type": "display_data"
    }
   ],
   "source": [
    "options(repr.plot.width = 8, repr.plot.height = 10, repr.plot.res = 150)\n",
    "\n",
    "pheatmap(resultado %>% {log10(. + 1)},\n",
    "         main = \"\",\n",
    "         show_rownames = TRUE,\n",
    "         cluster_cols = FALSE,\n",
    "         cluster_rows = FALSE,\n",
    "         fontsize = 13,\n",
    "         cellwidth = 30,\n",
    "         border_color = NA,\n",
    "         color = colorRampPalette(c(\"white\", \"#02666b\"))(100),\n",
    "         angle_col = 45)"
   ]
  }
 ],
 "metadata": {
  "kernelspec": {
   "display_name": "joyceR 4.3.3",
   "language": "R",
   "name": "ir4.3.3"
  },
  "language_info": {
   "codemirror_mode": "r",
   "file_extension": ".r",
   "mimetype": "text/x-r-source",
   "name": "R",
   "pygments_lexer": "r",
   "version": "4.3.3"
  }
 },
 "nbformat": 4,
 "nbformat_minor": 5
}
